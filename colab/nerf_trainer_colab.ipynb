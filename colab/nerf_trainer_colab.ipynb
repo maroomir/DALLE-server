{
  "cells": [
    {
      "cell_type": "code",
      "execution_count": null,
      "metadata": {
        "colab": {
          "base_uri": "https://localhost:8080/"
        },
        "id": "Kfa5lTAWxwkK",
        "outputId": "7224ded6-173f-483b-a5ba-19bd55120b91"
      },
      "outputs": [
        {
          "output_type": "stream",
          "name": "stdout",
          "text": [
            "Mon Oct 31 09:08:39 2022       \n",
            "+-----------------------------------------------------------------------------+\n",
            "| NVIDIA-SMI 460.32.03    Driver Version: 460.32.03    CUDA Version: 11.2     |\n",
            "|-------------------------------+----------------------+----------------------+\n",
            "| GPU  Name        Persistence-M| Bus-Id        Disp.A | Volatile Uncorr. ECC |\n",
            "| Fan  Temp  Perf  Pwr:Usage/Cap|         Memory-Usage | GPU-Util  Compute M. |\n",
            "|                               |                      |               MIG M. |\n",
            "|===============================+======================+======================|\n",
            "|   0  A100-SXM4-40GB      Off  | 00000000:00:04.0 Off |                    0 |\n",
            "| N/A   31C    P0    45W / 400W |      0MiB / 40536MiB |      0%      Default |\n",
            "|                               |                      |             Disabled |\n",
            "+-------------------------------+----------------------+----------------------+\n",
            "                                                                               \n",
            "+-----------------------------------------------------------------------------+\n",
            "| Processes:                                                                  |\n",
            "|  GPU   GI   CI        PID   Type   Process name                  GPU Memory |\n",
            "|        ID   ID                                                   Usage      |\n",
            "|=============================================================================|\n",
            "|  No running processes found                                                 |\n",
            "+-----------------------------------------------------------------------------+\n",
            "nvcc: NVIDIA (R) Cuda compiler driver\n",
            "Copyright (c) 2005-2021 NVIDIA Corporation\n",
            "Built on Sun_Feb_14_21:12:58_PST_2021\n",
            "Cuda compilation tools, release 11.2, V11.2.152\n",
            "Build cuda_11.2.r11.2/compiler.29618528_0\n"
          ]
        }
      ],
      "source": [
        "!nvidia-smi\n",
        "!nvcc --version"
      ]
    },
    {
      "cell_type": "markdown",
      "metadata": {
        "id": "QYeakTYNs7aR"
      },
      "source": [
        "# nerf-pl 훈련하기\n",
        "\n",
        "원격으로 Nerf pl을 훈련하고, Data를 보관하기 위해 colab 을 별도로 만들었다.\n",
        "\n",
        "이를 위해 최신사양에 맞는 colab에서 돌아가게 수정한 nerf-pl 을 사용한다."
      ]
    },
    {
      "cell_type": "code",
      "execution_count": null,
      "metadata": {
        "colab": {
          "base_uri": "https://localhost:8080/"
        },
        "id": "-FSxkLZBtenY",
        "outputId": "999d8cea-3b80-4c90-e721-76b34318128b"
      },
      "outputs": [
        {
          "output_type": "stream",
          "name": "stdout",
          "text": [
            "Mounted at /content/drive\n"
          ]
        }
      ],
      "source": [
        "from google.colab import drive\n",
        "drive.mount('/content/drive')"
      ]
    },
    {
      "cell_type": "code",
      "execution_count": null,
      "metadata": {
        "colab": {
          "base_uri": "https://localhost:8080/"
        },
        "id": "v5e5IqK5uvvU",
        "outputId": "fea5f25a-0e99-41ed-a9e6-91d43907bb1c"
      },
      "outputs": [
        {
          "output_type": "stream",
          "name": "stdout",
          "text": [
            "/content/drive/MyDrive/YonseiUniversity/MetaArt\n"
          ]
        }
      ],
      "source": [
        "TARGET_PATH = \"/content/drive/MyDrive/YonseiUniversity/MetaArt\"\n",
        "%cd $TARGET_PATH"
      ]
    },
    {
      "cell_type": "markdown",
      "metadata": {
        "id": "WgR3MYjlt2O5"
      },
      "source": [
        "Target path 에 nerf-pl 폴더가 없는 경우 github 에서 clone 한다.\n",
        "\n",
        "만약에 있는 경우는 아래 단계는 스킵한다."
      ]
    },
    {
      "cell_type": "code",
      "execution_count": null,
      "metadata": {
        "colab": {
          "base_uri": "https://localhost:8080/"
        },
        "id": "x5D-M870s6Q7",
        "outputId": "d4fb887a-344d-42f5-b344-86cc3052debd"
      },
      "outputs": [
        {
          "output_type": "stream",
          "name": "stdout",
          "text": [
            "fatal: destination path 'nerf_pl' already exists and is not an empty directory.\n"
          ]
        }
      ],
      "source": [
        "!git clone https://github.com/maroomir/nerf_pl.git"
      ]
    },
    {
      "cell_type": "markdown",
      "metadata": {
        "id": "QxueIfM8u8-C"
      },
      "source": [
        "pip 설치를 위해 여기는 반드시 실행해야한다."
      ]
    },
    {
      "cell_type": "code",
      "execution_count": null,
      "metadata": {
        "colab": {
          "base_uri": "https://localhost:8080/"
        },
        "id": "Bflt7BafvOAy",
        "outputId": "9476faae-85e0-46d1-e7fb-98e6300a24e4"
      },
      "outputs": [
        {
          "output_type": "stream",
          "name": "stdout",
          "text": [
            "/content/drive/MyDrive/YonseiUniversity/MetaArt/nerf_pl\n",
            "Looking in indexes: https://pypi.org/simple, https://us-python.pkg.dev/colab-wheels/public/simple/\n",
            "Requirement already satisfied: torch in /usr/local/lib/python3.7/dist-packages (from -r requirements.txt (line 1)) (1.12.1+cu113)\n",
            "Requirement already satisfied: torchvision in /usr/local/lib/python3.7/dist-packages (from -r requirements.txt (line 2)) (0.13.1+cu113)\n",
            "Requirement already satisfied: pytorch-lightning<1.7.0 in /usr/local/lib/python3.7/dist-packages (from -r requirements.txt (line 3)) (1.6.5)\n",
            "Requirement already satisfied: test-tube in /usr/local/lib/python3.7/dist-packages (from -r requirements.txt (line 4)) (0.7.5)\n",
            "Requirement already satisfied: kornia in /usr/local/lib/python3.7/dist-packages (from -r requirements.txt (line 5)) (0.6.8)\n",
            "Requirement already satisfied: opencv-python in /usr/local/lib/python3.7/dist-packages (from -r requirements.txt (line 6)) (4.6.0.66)\n",
            "Requirement already satisfied: matplotlib in /usr/local/lib/python3.7/dist-packages (from -r requirements.txt (line 7)) (3.2.2)\n",
            "Requirement already satisfied: jupyter in /usr/local/lib/python3.7/dist-packages (from -r requirements.txt (line 8)) (1.0.0)\n",
            "Requirement already satisfied: PyMCubes in /usr/local/lib/python3.7/dist-packages (from -r requirements.txt (line 11)) (0.1.2)\n",
            "Requirement already satisfied: pycollada in /usr/local/lib/python3.7/dist-packages (from -r requirements.txt (line 12)) (0.7.2)\n",
            "Requirement already satisfied: trimesh in /usr/local/lib/python3.7/dist-packages (from -r requirements.txt (line 13)) (3.15.8)\n",
            "Requirement already satisfied: pyglet in /usr/local/lib/python3.7/dist-packages (from -r requirements.txt (line 14)) (1.5.27)\n",
            "Requirement already satisfied: plyfile in /usr/local/lib/python3.7/dist-packages (from -r requirements.txt (line 17)) (0.7.4)\n",
            "Requirement already satisfied: open3d in /usr/local/lib/python3.7/dist-packages (from -r requirements.txt (line 18)) (0.16.0)\n",
            "Requirement already satisfied: protobuf<=3.20.1 in /usr/local/lib/python3.7/dist-packages (from pytorch-lightning<1.7.0->-r requirements.txt (line 3)) (3.17.3)\n",
            "Requirement already satisfied: pyDeprecate>=0.3.1 in /usr/local/lib/python3.7/dist-packages (from pytorch-lightning<1.7.0->-r requirements.txt (line 3)) (0.3.2)\n",
            "Requirement already satisfied: tqdm>=4.57.0 in /usr/local/lib/python3.7/dist-packages (from pytorch-lightning<1.7.0->-r requirements.txt (line 3)) (4.64.1)\n",
            "Requirement already satisfied: packaging>=17.0 in /usr/local/lib/python3.7/dist-packages (from pytorch-lightning<1.7.0->-r requirements.txt (line 3)) (21.3)\n",
            "Requirement already satisfied: typing-extensions>=4.0.0 in /usr/local/lib/python3.7/dist-packages (from pytorch-lightning<1.7.0->-r requirements.txt (line 3)) (4.1.1)\n",
            "Requirement already satisfied: numpy>=1.17.2 in /usr/local/lib/python3.7/dist-packages (from pytorch-lightning<1.7.0->-r requirements.txt (line 3)) (1.21.6)\n",
            "Requirement already satisfied: fsspec[http]!=2021.06.0,>=2021.05.0 in /usr/local/lib/python3.7/dist-packages (from pytorch-lightning<1.7.0->-r requirements.txt (line 3)) (2022.10.0)\n",
            "Requirement already satisfied: torchmetrics>=0.4.1 in /usr/local/lib/python3.7/dist-packages (from pytorch-lightning<1.7.0->-r requirements.txt (line 3)) (0.10.1)\n",
            "Requirement already satisfied: tensorboard>=2.2.0 in /usr/local/lib/python3.7/dist-packages (from pytorch-lightning<1.7.0->-r requirements.txt (line 3)) (2.9.1)\n",
            "Requirement already satisfied: PyYAML>=5.4 in /usr/local/lib/python3.7/dist-packages (from pytorch-lightning<1.7.0->-r requirements.txt (line 3)) (6.0)\n",
            "Requirement already satisfied: requests in /usr/local/lib/python3.7/dist-packages (from fsspec[http]!=2021.06.0,>=2021.05.0->pytorch-lightning<1.7.0->-r requirements.txt (line 3)) (2.23.0)\n",
            "Requirement already satisfied: aiohttp!=4.0.0a0,!=4.0.0a1 in /usr/local/lib/python3.7/dist-packages (from fsspec[http]!=2021.06.0,>=2021.05.0->pytorch-lightning<1.7.0->-r requirements.txt (line 3)) (3.8.3)\n",
            "Requirement already satisfied: attrs>=17.3.0 in /usr/local/lib/python3.7/dist-packages (from aiohttp!=4.0.0a0,!=4.0.0a1->fsspec[http]!=2021.06.0,>=2021.05.0->pytorch-lightning<1.7.0->-r requirements.txt (line 3)) (22.1.0)\n",
            "Requirement already satisfied: frozenlist>=1.1.1 in /usr/local/lib/python3.7/dist-packages (from aiohttp!=4.0.0a0,!=4.0.0a1->fsspec[http]!=2021.06.0,>=2021.05.0->pytorch-lightning<1.7.0->-r requirements.txt (line 3)) (1.3.1)\n",
            "Requirement already satisfied: aiosignal>=1.1.2 in /usr/local/lib/python3.7/dist-packages (from aiohttp!=4.0.0a0,!=4.0.0a1->fsspec[http]!=2021.06.0,>=2021.05.0->pytorch-lightning<1.7.0->-r requirements.txt (line 3)) (1.2.0)\n",
            "Requirement already satisfied: async-timeout<5.0,>=4.0.0a3 in /usr/local/lib/python3.7/dist-packages (from aiohttp!=4.0.0a0,!=4.0.0a1->fsspec[http]!=2021.06.0,>=2021.05.0->pytorch-lightning<1.7.0->-r requirements.txt (line 3)) (4.0.2)\n",
            "Requirement already satisfied: charset-normalizer<3.0,>=2.0 in /usr/local/lib/python3.7/dist-packages (from aiohttp!=4.0.0a0,!=4.0.0a1->fsspec[http]!=2021.06.0,>=2021.05.0->pytorch-lightning<1.7.0->-r requirements.txt (line 3)) (2.1.1)\n",
            "Requirement already satisfied: yarl<2.0,>=1.0 in /usr/local/lib/python3.7/dist-packages (from aiohttp!=4.0.0a0,!=4.0.0a1->fsspec[http]!=2021.06.0,>=2021.05.0->pytorch-lightning<1.7.0->-r requirements.txt (line 3)) (1.8.1)\n",
            "Requirement already satisfied: multidict<7.0,>=4.5 in /usr/local/lib/python3.7/dist-packages (from aiohttp!=4.0.0a0,!=4.0.0a1->fsspec[http]!=2021.06.0,>=2021.05.0->pytorch-lightning<1.7.0->-r requirements.txt (line 3)) (6.0.2)\n",
            "Requirement already satisfied: asynctest==0.13.0 in /usr/local/lib/python3.7/dist-packages (from aiohttp!=4.0.0a0,!=4.0.0a1->fsspec[http]!=2021.06.0,>=2021.05.0->pytorch-lightning<1.7.0->-r requirements.txt (line 3)) (0.13.0)\n",
            "Requirement already satisfied: pyparsing!=3.0.5,>=2.0.2 in /usr/local/lib/python3.7/dist-packages (from packaging>=17.0->pytorch-lightning<1.7.0->-r requirements.txt (line 3)) (3.0.9)\n",
            "Requirement already satisfied: six>=1.9 in /usr/local/lib/python3.7/dist-packages (from protobuf<=3.20.1->pytorch-lightning<1.7.0->-r requirements.txt (line 3)) (1.15.0)\n",
            "Requirement already satisfied: markdown>=2.6.8 in /usr/local/lib/python3.7/dist-packages (from tensorboard>=2.2.0->pytorch-lightning<1.7.0->-r requirements.txt (line 3)) (3.4.1)\n",
            "Requirement already satisfied: setuptools>=41.0.0 in /usr/local/lib/python3.7/dist-packages (from tensorboard>=2.2.0->pytorch-lightning<1.7.0->-r requirements.txt (line 3)) (57.4.0)\n",
            "Requirement already satisfied: tensorboard-plugin-wit>=1.6.0 in /usr/local/lib/python3.7/dist-packages (from tensorboard>=2.2.0->pytorch-lightning<1.7.0->-r requirements.txt (line 3)) (1.8.1)\n",
            "Requirement already satisfied: google-auth<3,>=1.6.3 in /usr/local/lib/python3.7/dist-packages (from tensorboard>=2.2.0->pytorch-lightning<1.7.0->-r requirements.txt (line 3)) (1.35.0)\n",
            "Requirement already satisfied: werkzeug>=1.0.1 in /usr/local/lib/python3.7/dist-packages (from tensorboard>=2.2.0->pytorch-lightning<1.7.0->-r requirements.txt (line 3)) (1.0.1)\n",
            "Requirement already satisfied: google-auth-oauthlib<0.5,>=0.4.1 in /usr/local/lib/python3.7/dist-packages (from tensorboard>=2.2.0->pytorch-lightning<1.7.0->-r requirements.txt (line 3)) (0.4.6)\n",
            "Requirement already satisfied: absl-py>=0.4 in /usr/local/lib/python3.7/dist-packages (from tensorboard>=2.2.0->pytorch-lightning<1.7.0->-r requirements.txt (line 3)) (1.3.0)\n",
            "Requirement already satisfied: grpcio>=1.24.3 in /usr/local/lib/python3.7/dist-packages (from tensorboard>=2.2.0->pytorch-lightning<1.7.0->-r requirements.txt (line 3)) (1.50.0)\n",
            "Requirement already satisfied: wheel>=0.26 in /usr/local/lib/python3.7/dist-packages (from tensorboard>=2.2.0->pytorch-lightning<1.7.0->-r requirements.txt (line 3)) (0.37.1)\n",
            "Requirement already satisfied: tensorboard-data-server<0.7.0,>=0.6.0 in /usr/local/lib/python3.7/dist-packages (from tensorboard>=2.2.0->pytorch-lightning<1.7.0->-r requirements.txt (line 3)) (0.6.1)\n",
            "Requirement already satisfied: cachetools<5.0,>=2.0.0 in /usr/local/lib/python3.7/dist-packages (from google-auth<3,>=1.6.3->tensorboard>=2.2.0->pytorch-lightning<1.7.0->-r requirements.txt (line 3)) (4.2.4)\n",
            "Requirement already satisfied: rsa<5,>=3.1.4 in /usr/local/lib/python3.7/dist-packages (from google-auth<3,>=1.6.3->tensorboard>=2.2.0->pytorch-lightning<1.7.0->-r requirements.txt (line 3)) (4.9)\n",
            "Requirement already satisfied: pyasn1-modules>=0.2.1 in /usr/local/lib/python3.7/dist-packages (from google-auth<3,>=1.6.3->tensorboard>=2.2.0->pytorch-lightning<1.7.0->-r requirements.txt (line 3)) (0.2.8)\n",
            "Requirement already satisfied: requests-oauthlib>=0.7.0 in /usr/local/lib/python3.7/dist-packages (from google-auth-oauthlib<0.5,>=0.4.1->tensorboard>=2.2.0->pytorch-lightning<1.7.0->-r requirements.txt (line 3)) (1.3.1)\n",
            "Requirement already satisfied: importlib-metadata>=4.4 in /usr/local/lib/python3.7/dist-packages (from markdown>=2.6.8->tensorboard>=2.2.0->pytorch-lightning<1.7.0->-r requirements.txt (line 3)) (4.13.0)\n",
            "Requirement already satisfied: zipp>=0.5 in /usr/local/lib/python3.7/dist-packages (from importlib-metadata>=4.4->markdown>=2.6.8->tensorboard>=2.2.0->pytorch-lightning<1.7.0->-r requirements.txt (line 3)) (3.9.0)\n",
            "Requirement already satisfied: pyasn1<0.5.0,>=0.4.6 in /usr/local/lib/python3.7/dist-packages (from pyasn1-modules>=0.2.1->google-auth<3,>=1.6.3->tensorboard>=2.2.0->pytorch-lightning<1.7.0->-r requirements.txt (line 3)) (0.4.8)\n",
            "Requirement already satisfied: certifi>=2017.4.17 in /usr/local/lib/python3.7/dist-packages (from requests->fsspec[http]!=2021.06.0,>=2021.05.0->pytorch-lightning<1.7.0->-r requirements.txt (line 3)) (2022.9.24)\n",
            "Requirement already satisfied: idna<3,>=2.5 in /usr/local/lib/python3.7/dist-packages (from requests->fsspec[http]!=2021.06.0,>=2021.05.0->pytorch-lightning<1.7.0->-r requirements.txt (line 3)) (2.10)\n",
            "Requirement already satisfied: chardet<4,>=3.0.2 in /usr/local/lib/python3.7/dist-packages (from requests->fsspec[http]!=2021.06.0,>=2021.05.0->pytorch-lightning<1.7.0->-r requirements.txt (line 3)) (3.0.4)\n",
            "Requirement already satisfied: urllib3!=1.25.0,!=1.25.1,<1.26,>=1.21.1 in /usr/local/lib/python3.7/dist-packages (from requests->fsspec[http]!=2021.06.0,>=2021.05.0->pytorch-lightning<1.7.0->-r requirements.txt (line 3)) (1.24.3)\n",
            "Requirement already satisfied: oauthlib>=3.0.0 in /usr/local/lib/python3.7/dist-packages (from requests-oauthlib>=0.7.0->google-auth-oauthlib<0.5,>=0.4.1->tensorboard>=2.2.0->pytorch-lightning<1.7.0->-r requirements.txt (line 3)) (3.2.2)\n",
            "Requirement already satisfied: pillow!=8.3.*,>=5.3.0 in /usr/local/lib/python3.7/dist-packages (from torchvision->-r requirements.txt (line 2)) (9.3.0)\n",
            "Requirement already satisfied: future in /usr/local/lib/python3.7/dist-packages (from test-tube->-r requirements.txt (line 4)) (0.16.0)\n",
            "Requirement already satisfied: imageio>=2.3.0 in /usr/local/lib/python3.7/dist-packages (from test-tube->-r requirements.txt (line 4)) (2.9.0)\n",
            "Requirement already satisfied: pandas>=0.20.3 in /usr/local/lib/python3.7/dist-packages (from test-tube->-r requirements.txt (line 4)) (1.3.5)\n",
            "Requirement already satisfied: python-dateutil>=2.7.3 in /usr/local/lib/python3.7/dist-packages (from pandas>=0.20.3->test-tube->-r requirements.txt (line 4)) (2.8.2)\n",
            "Requirement already satisfied: pytz>=2017.3 in /usr/local/lib/python3.7/dist-packages (from pandas>=0.20.3->test-tube->-r requirements.txt (line 4)) (2022.5)\n",
            "Requirement already satisfied: kiwisolver>=1.0.1 in /usr/local/lib/python3.7/dist-packages (from matplotlib->-r requirements.txt (line 7)) (1.4.4)\n",
            "Requirement already satisfied: cycler>=0.10 in /usr/local/lib/python3.7/dist-packages (from matplotlib->-r requirements.txt (line 7)) (0.11.0)\n",
            "Requirement already satisfied: qtconsole in /usr/local/lib/python3.7/dist-packages (from jupyter->-r requirements.txt (line 8)) (5.3.2)\n",
            "Requirement already satisfied: jupyter-console in /usr/local/lib/python3.7/dist-packages (from jupyter->-r requirements.txt (line 8)) (6.1.0)\n",
            "Requirement already satisfied: ipywidgets in /usr/local/lib/python3.7/dist-packages (from jupyter->-r requirements.txt (line 8)) (7.7.1)\n",
            "Requirement already satisfied: notebook in /usr/local/lib/python3.7/dist-packages (from jupyter->-r requirements.txt (line 8)) (5.5.0)\n",
            "Requirement already satisfied: nbconvert in /usr/local/lib/python3.7/dist-packages (from jupyter->-r requirements.txt (line 8)) (5.6.1)\n",
            "Requirement already satisfied: ipykernel in /usr/local/lib/python3.7/dist-packages (from jupyter->-r requirements.txt (line 8)) (5.3.4)\n",
            "Requirement already satisfied: scikit-learn>=0.21 in /usr/local/lib/python3.7/dist-packages (from open3d->-r requirements.txt (line 18)) (1.0.2)\n",
            "Requirement already satisfied: nbformat==5.5.0 in /usr/local/lib/python3.7/dist-packages (from open3d->-r requirements.txt (line 18)) (5.5.0)\n",
            "Requirement already satisfied: dash>=2.6.0 in /usr/local/lib/python3.7/dist-packages (from open3d->-r requirements.txt (line 18)) (2.6.2)\n",
            "Requirement already satisfied: pyquaternion in /usr/local/lib/python3.7/dist-packages (from open3d->-r requirements.txt (line 18)) (0.9.9)\n",
            "Requirement already satisfied: configargparse in /usr/local/lib/python3.7/dist-packages (from open3d->-r requirements.txt (line 18)) (1.5.3)\n",
            "Requirement already satisfied: addict in /usr/local/lib/python3.7/dist-packages (from open3d->-r requirements.txt (line 18)) (2.4.0)\n",
            "Requirement already satisfied: fastjsonschema in /usr/local/lib/python3.7/dist-packages (from nbformat==5.5.0->open3d->-r requirements.txt (line 18)) (2.16.2)\n",
            "Requirement already satisfied: traitlets>=5.1 in /usr/local/lib/python3.7/dist-packages (from nbformat==5.5.0->open3d->-r requirements.txt (line 18)) (5.1.1)\n",
            "Requirement already satisfied: jupyter_core in /usr/local/lib/python3.7/dist-packages (from nbformat==5.5.0->open3d->-r requirements.txt (line 18)) (4.11.2)\n",
            "Requirement already satisfied: jsonschema>=2.6 in /usr/local/lib/python3.7/dist-packages (from nbformat==5.5.0->open3d->-r requirements.txt (line 18)) (4.3.3)\n",
            "Requirement already satisfied: flask-compress in /usr/local/lib/python3.7/dist-packages (from dash>=2.6.0->open3d->-r requirements.txt (line 18)) (1.13)\n",
            "Requirement already satisfied: dash-core-components==2.0.0 in /usr/local/lib/python3.7/dist-packages (from dash>=2.6.0->open3d->-r requirements.txt (line 18)) (2.0.0)\n",
            "Requirement already satisfied: dash-html-components==2.0.0 in /usr/local/lib/python3.7/dist-packages (from dash>=2.6.0->open3d->-r requirements.txt (line 18)) (2.0.0)\n",
            "Requirement already satisfied: Flask>=1.0.4 in /usr/local/lib/python3.7/dist-packages (from dash>=2.6.0->open3d->-r requirements.txt (line 18)) (1.1.4)\n",
            "Requirement already satisfied: plotly>=5.0.0 in /usr/local/lib/python3.7/dist-packages (from dash>=2.6.0->open3d->-r requirements.txt (line 18)) (5.5.0)\n",
            "Requirement already satisfied: dash-table==5.0.0 in /usr/local/lib/python3.7/dist-packages (from dash>=2.6.0->open3d->-r requirements.txt (line 18)) (5.0.0)\n",
            "Requirement already satisfied: Jinja2<3.0,>=2.10.1 in /usr/local/lib/python3.7/dist-packages (from Flask>=1.0.4->dash>=2.6.0->open3d->-r requirements.txt (line 18)) (2.11.3)\n",
            "Requirement already satisfied: click<8.0,>=5.1 in /usr/local/lib/python3.7/dist-packages (from Flask>=1.0.4->dash>=2.6.0->open3d->-r requirements.txt (line 18)) (7.1.2)\n",
            "Requirement already satisfied: itsdangerous<2.0,>=0.24 in /usr/local/lib/python3.7/dist-packages (from Flask>=1.0.4->dash>=2.6.0->open3d->-r requirements.txt (line 18)) (1.1.0)\n",
            "Requirement already satisfied: widgetsnbextension~=3.6.0 in /usr/local/lib/python3.7/dist-packages (from ipywidgets->jupyter->-r requirements.txt (line 8)) (3.6.1)\n",
            "Requirement already satisfied: ipython-genutils~=0.2.0 in /usr/local/lib/python3.7/dist-packages (from ipywidgets->jupyter->-r requirements.txt (line 8)) (0.2.0)\n",
            "Requirement already satisfied: ipython>=4.0.0 in /usr/local/lib/python3.7/dist-packages (from ipywidgets->jupyter->-r requirements.txt (line 8)) (7.9.0)\n",
            "Requirement already satisfied: jupyterlab-widgets>=1.0.0 in /usr/local/lib/python3.7/dist-packages (from ipywidgets->jupyter->-r requirements.txt (line 8)) (3.0.3)\n",
            "Requirement already satisfied: jupyter-client in /usr/local/lib/python3.7/dist-packages (from ipykernel->jupyter->-r requirements.txt (line 8)) (6.1.12)\n",
            "Requirement already satisfied: tornado>=4.2 in /usr/local/lib/python3.7/dist-packages (from ipykernel->jupyter->-r requirements.txt (line 8)) (5.1.1)\n",
            "Requirement already satisfied: pickleshare in /usr/local/lib/python3.7/dist-packages (from ipython>=4.0.0->ipywidgets->jupyter->-r requirements.txt (line 8)) (0.7.5)\n",
            "Requirement already satisfied: decorator in /usr/local/lib/python3.7/dist-packages (from ipython>=4.0.0->ipywidgets->jupyter->-r requirements.txt (line 8)) (4.4.2)\n",
            "Requirement already satisfied: prompt-toolkit<2.1.0,>=2.0.0 in /usr/local/lib/python3.7/dist-packages (from ipython>=4.0.0->ipywidgets->jupyter->-r requirements.txt (line 8)) (2.0.10)\n",
            "Requirement already satisfied: pexpect in /usr/local/lib/python3.7/dist-packages (from ipython>=4.0.0->ipywidgets->jupyter->-r requirements.txt (line 8)) (4.8.0)\n",
            "Requirement already satisfied: jedi>=0.10 in /usr/local/lib/python3.7/dist-packages (from ipython>=4.0.0->ipywidgets->jupyter->-r requirements.txt (line 8)) (0.18.1)\n",
            "Requirement already satisfied: pygments in /usr/local/lib/python3.7/dist-packages (from ipython>=4.0.0->ipywidgets->jupyter->-r requirements.txt (line 8)) (2.6.1)\n",
            "Requirement already satisfied: backcall in /usr/local/lib/python3.7/dist-packages (from ipython>=4.0.0->ipywidgets->jupyter->-r requirements.txt (line 8)) (0.2.0)\n",
            "Requirement already satisfied: parso<0.9.0,>=0.8.0 in /usr/local/lib/python3.7/dist-packages (from jedi>=0.10->ipython>=4.0.0->ipywidgets->jupyter->-r requirements.txt (line 8)) (0.8.3)\n",
            "Requirement already satisfied: MarkupSafe>=0.23 in /usr/local/lib/python3.7/dist-packages (from Jinja2<3.0,>=2.10.1->Flask>=1.0.4->dash>=2.6.0->open3d->-r requirements.txt (line 18)) (2.0.1)\n",
            "Requirement already satisfied: pyrsistent!=0.17.0,!=0.17.1,!=0.17.2,>=0.14.0 in /usr/local/lib/python3.7/dist-packages (from jsonschema>=2.6->nbformat==5.5.0->open3d->-r requirements.txt (line 18)) (0.18.1)\n",
            "Requirement already satisfied: importlib-resources>=1.4.0 in /usr/local/lib/python3.7/dist-packages (from jsonschema>=2.6->nbformat==5.5.0->open3d->-r requirements.txt (line 18)) (5.10.0)\n",
            "Requirement already satisfied: tenacity>=6.2.0 in /usr/local/lib/python3.7/dist-packages (from plotly>=5.0.0->dash>=2.6.0->open3d->-r requirements.txt (line 18)) (8.1.0)\n",
            "Requirement already satisfied: wcwidth in /usr/local/lib/python3.7/dist-packages (from prompt-toolkit<2.1.0,>=2.0.0->ipython>=4.0.0->ipywidgets->jupyter->-r requirements.txt (line 8)) (0.2.5)\n",
            "Requirement already satisfied: joblib>=0.11 in /usr/local/lib/python3.7/dist-packages (from scikit-learn>=0.21->open3d->-r requirements.txt (line 18)) (1.2.0)\n",
            "Requirement already satisfied: scipy>=1.1.0 in /usr/local/lib/python3.7/dist-packages (from scikit-learn>=0.21->open3d->-r requirements.txt (line 18)) (1.7.3)\n",
            "Requirement already satisfied: threadpoolctl>=2.0.0 in /usr/local/lib/python3.7/dist-packages (from scikit-learn>=0.21->open3d->-r requirements.txt (line 18)) (3.1.0)\n",
            "Requirement already satisfied: pyzmq>=17 in /usr/local/lib/python3.7/dist-packages (from notebook->jupyter->-r requirements.txt (line 8)) (23.2.1)\n",
            "Requirement already satisfied: Send2Trash in /usr/local/lib/python3.7/dist-packages (from notebook->jupyter->-r requirements.txt (line 8)) (1.8.0)\n",
            "Requirement already satisfied: terminado>=0.8.1 in /usr/local/lib/python3.7/dist-packages (from notebook->jupyter->-r requirements.txt (line 8)) (0.13.3)\n",
            "Requirement already satisfied: ptyprocess in /usr/local/lib/python3.7/dist-packages (from terminado>=0.8.1->notebook->jupyter->-r requirements.txt (line 8)) (0.7.0)\n",
            "Requirement already satisfied: brotli in /usr/local/lib/python3.7/dist-packages (from flask-compress->dash>=2.6.0->open3d->-r requirements.txt (line 18)) (1.0.9)\n",
            "Requirement already satisfied: mistune<2,>=0.8.1 in /usr/local/lib/python3.7/dist-packages (from nbconvert->jupyter->-r requirements.txt (line 8)) (0.8.4)\n",
            "Requirement already satisfied: entrypoints>=0.2.2 in /usr/local/lib/python3.7/dist-packages (from nbconvert->jupyter->-r requirements.txt (line 8)) (0.4)\n",
            "Requirement already satisfied: defusedxml in /usr/local/lib/python3.7/dist-packages (from nbconvert->jupyter->-r requirements.txt (line 8)) (0.7.1)\n",
            "Requirement already satisfied: testpath in /usr/local/lib/python3.7/dist-packages (from nbconvert->jupyter->-r requirements.txt (line 8)) (0.6.0)\n",
            "Requirement already satisfied: pandocfilters>=1.4.1 in /usr/local/lib/python3.7/dist-packages (from nbconvert->jupyter->-r requirements.txt (line 8)) (1.5.0)\n",
            "Requirement already satisfied: bleach in /usr/local/lib/python3.7/dist-packages (from nbconvert->jupyter->-r requirements.txt (line 8)) (5.0.1)\n",
            "Requirement already satisfied: webencodings in /usr/local/lib/python3.7/dist-packages (from bleach->nbconvert->jupyter->-r requirements.txt (line 8)) (0.5.1)\n",
            "Requirement already satisfied: qtpy>=2.0.1 in /usr/local/lib/python3.7/dist-packages (from qtconsole->jupyter->-r requirements.txt (line 8)) (2.2.1)\n"
          ]
        }
      ],
      "source": [
        "%cd nerf_pl\n",
        "!pip install -r requirements.txt"
      ]
    },
    {
      "cell_type": "markdown",
      "metadata": {
        "id": "PGuBVr3SuFZM"
      },
      "source": [
        "## LLFF input\n",
        "\n",
        "Data 위치를 입력한다.\n",
        "\n",
        "Data 위치는 sample 도 괜찮고, 아니면 우리가 직접 만든 LLFF Data 도 괜찮다.\n",
        "\n",
        "단, 무조건 LLFF 형태여야 한다."
      ]
    },
    {
      "cell_type": "code",
      "execution_count": null,
      "metadata": {
        "id": "cI__hEELuFHW"
      },
      "outputs": [],
      "source": [
        "import os\n",
        "os.environ['DATA_DIR'] = \"/content/drive/MyDrive/YonseiUniversity/MetaArt/nerf-pytorch/data/nerf_llff_data/fortress\"\n",
        "os.environ['IMG_W'] = \"504\" # image width (do not set too large)\n",
        "os.environ['IMG_H'] = \"378\" # image height (do not set too large)\n",
        "os.environ['NUM_EPOCHS'] = \"30\" # number of epochs to train (depending on how many images there are,\n",
        "                                # 20~30 might be enough)\n",
        "os.environ['EXP'] = \"fortress\" # name of the experience (arbitrary)"
      ]
    },
    {
      "cell_type": "markdown",
      "metadata": {
        "id": "TZV_k34rwEVw"
      },
      "source": [
        "colmap 에 정의된 pose 수와 Image 수가 반드시 맞아야한다."
      ]
    },
    {
      "cell_type": "code",
      "execution_count": null,
      "metadata": {
        "colab": {
          "base_uri": "https://localhost:8080/"
        },
        "id": "K7jR1nZqvrBX",
        "outputId": "1d665f8c-0115-4916-bddc-5b532441b1ae"
      },
      "outputs": [
        {
          "name": "stdout",
          "output_type": "stream",
          "text": [
            "COLMAP=42 - IMAGES=42\n"
          ]
        }
      ],
      "source": [
        "import numpy as np\n",
        "import glob\n",
        "poses_bounds = np.load(os.path.join(os.environ['DATA_DIR'], 'poses_bounds.npy'))\n",
        "colmap_cnt = len(poses_bounds)\n",
        "img_cnt = len(glob.glob(os.path.join(os.environ['DATA_DIR'], 'images/*')))\n",
        "print(f\"COLMAP={colmap_cnt} - IMAGES={img_cnt}\")"
      ]
    },
    {
      "cell_type": "markdown",
      "metadata": {
        "id": "Yz0quTK5wJz5"
      },
      "source": [
        "## Training\n",
        "\n",
        "colmap 갯수 확인에 이상이 없는 경우, 돌릴 수 있다."
      ]
    },
    {
      "cell_type": "code",
      "execution_count": null,
      "metadata": {
        "colab": {
          "background_save": true,
          "base_uri": "https://localhost:8080/"
        },
        "id": "A6hk60Trwl4F",
        "outputId": "587ae94b-0117-4ab6-abfa-8b677a46be18"
      },
      "outputs": [
        {
          "name": "stdout",
          "output_type": "stream",
          "text": [
            "/usr/local/lib/python3.7/dist-packages/pytorch_lightning/loggers/test_tube.py:106: LightningDeprecationWarning: The TestTubeLogger is deprecated since v1.5 and will be removed in v1.7. We recommend switching to the `pytorch_lightning.loggers.TensorBoardLogger` as an alternative.\n",
            "  \"The TestTubeLogger is deprecated since v1.5 and will be removed in v1.7. We recommend switching to the\"\n",
            "/usr/local/lib/python3.7/dist-packages/pytorch_lightning/trainer/connectors/callback_connector.py:152: LightningDeprecationWarning: Setting `Trainer(checkpoint_callback=<pytorch_lightning.callbacks.model_checkpoint.ModelCheckpoint object at 0x7f27a2eb0310>)` is deprecated in v1.5 and will be removed in v1.7. Please consider using `Trainer(enable_checkpointing=<pytorch_lightning.callbacks.model_checkpoint.ModelCheckpoint object at 0x7f27a2eb0310>)`.\n",
            "  f\"Setting `Trainer(checkpoint_callback={checkpoint_callback})` is deprecated in v1.5 and will \"\n",
            "/usr/local/lib/python3.7/dist-packages/pytorch_lightning/trainer/connectors/callback_connector.py:97: LightningDeprecationWarning: Setting `Trainer(progress_bar_refresh_rate=1)` is deprecated in v1.5 and will be removed in v1.7. Please pass `pytorch_lightning.callbacks.progress.TQDMProgressBar` with `refresh_rate` directly to the Trainer's `callbacks` argument instead. Or, to disable the progress bar pass `enable_progress_bar = False` to the Trainer.\n",
            "  f\"Setting `Trainer(progress_bar_refresh_rate={progress_bar_refresh_rate})` is deprecated in v1.5 and\"\n",
            "/usr/local/lib/python3.7/dist-packages/pytorch_lightning/trainer/connectors/callback_connector.py:172: LightningDeprecationWarning: Setting `Trainer(weights_summary=None)` is deprecated in v1.5 and will be removed in v1.7. Please set `Trainer(enable_model_summary=False)` instead.\n",
            "  \"Setting `Trainer(weights_summary=None)` is deprecated in v1.5 and will be removed\"\n",
            "GPU available: True, used: True\n",
            "TPU available: False, using: 0 TPU cores\n",
            "IPU available: False, using: 0 IPUs\n",
            "HPU available: False, using: 0 HPUs\n",
            "val image is /content/drive/MyDrive/YonseiUniversity/MetaArt/nerf-pytorch/data/nerf_llff_data/fortress/images/IMG_1821.JPG\n",
            "LOCAL_RANK: 0 - CUDA_VISIBLE_DEVICES: [0]\n",
            "2022-10-30 10:31:32.073381: I tensorflow/core/util/util.cc:169] oneDNN custom operations are on. You may see slightly different numerical results due to floating-point round-off errors from different computation orders. To turn them off, set the environment variable `TF_ENABLE_ONEDNN_OPTS=0`.\n",
            "Epoch 0: 100% 7628/7629 [10:24<00:00, 12.22it/s, loss=0.00603, v_num=1]\n",
            "Validation: 0it [00:00, ?it/s]\u001b[A\n",
            "Validation:   0% 0/1 [00:00<?, ?it/s]\u001b[A\n",
            "Validation DataLoader 0:   0% 0/1 [00:00<?, ?it/s]\u001b[A\n",
            "Validation DataLoader 0: 100% 1/1 [00:04<00:00,  4.51s/it]\u001b[A\n",
            "Epoch 0: 100% 7629/7629 [10:29<00:00, 12.12it/s, loss=0.00603, v_num=1]\n",
            "Epoch 1: 100% 7628/7629 [10:23<00:00, 12.24it/s, loss=0.00433, v_num=1]\n",
            "Validation: 0it [00:00, ?it/s]\u001b[A\n",
            "Validation:   0% 0/1 [00:00<?, ?it/s]\u001b[A\n",
            "Validation DataLoader 0:   0% 0/1 [00:00<?, ?it/s]\u001b[A\n",
            "Validation DataLoader 0: 100% 1/1 [00:04<00:00,  4.54s/it]\u001b[A\n",
            "Epoch 1: 100% 7629/7629 [10:28<00:00, 12.14it/s, loss=0.00433, v_num=1]\n",
            "Epoch 2: 100% 7628/7629 [10:22<00:00, 12.26it/s, loss=0.00363, v_num=1]\n",
            "Validation: 0it [00:00, ?it/s]\u001b[A\n",
            "Validation:   0% 0/1 [00:00<?, ?it/s]\u001b[A\n",
            "Validation DataLoader 0:   0% 0/1 [00:00<?, ?it/s]\u001b[A\n",
            "Validation DataLoader 0: 100% 1/1 [00:04<00:00,  4.54s/it]\u001b[A\n",
            "Epoch 2: 100% 7629/7629 [10:27<00:00, 12.16it/s, loss=0.00363, v_num=1]\n",
            "Epoch 3: 100% 7628/7629 [10:21<00:00, 12.28it/s, loss=0.00306, v_num=1]\n",
            "Validation: 0it [00:00, ?it/s]\u001b[A\n",
            "Validation:   0% 0/1 [00:00<?, ?it/s]\u001b[A\n",
            "Validation DataLoader 0:   0% 0/1 [00:00<?, ?it/s]\u001b[A\n",
            "Validation DataLoader 0: 100% 1/1 [00:04<00:00,  4.54s/it]\u001b[A\n",
            "Epoch 3: 100% 7629/7629 [10:26<00:00, 12.18it/s, loss=0.00306, v_num=1]\n",
            "Epoch 4: 100% 7628/7629 [10:21<00:00, 12.27it/s, loss=0.00289, v_num=1]\n",
            "Validation: 0it [00:00, ?it/s]\u001b[A\n",
            "Validation:   0% 0/1 [00:00<?, ?it/s]\u001b[A\n",
            "Validation DataLoader 0:   0% 0/1 [00:00<?, ?it/s]\u001b[A\n",
            "Validation DataLoader 0: 100% 1/1 [00:04<00:00,  4.54s/it]\u001b[A\n",
            "Epoch 4: 100% 7629/7629 [10:26<00:00, 12.17it/s, loss=0.00289, v_num=1]\n",
            "Epoch 5: 100% 7628/7629 [10:20<00:00, 12.29it/s, loss=0.00258, v_num=1]\n",
            "Validation: 0it [00:00, ?it/s]\u001b[A\n",
            "Validation:   0% 0/1 [00:00<?, ?it/s]\u001b[A\n",
            "Validation DataLoader 0:   0% 0/1 [00:00<?, ?it/s]\u001b[A\n",
            "Validation DataLoader 0: 100% 1/1 [00:04<00:00,  4.54s/it]\u001b[A\n",
            "Epoch 5: 100% 7629/7629 [10:26<00:00, 12.19it/s, loss=0.00258, v_num=1]\n",
            "Epoch 6: 100% 7628/7629 [10:21<00:00, 12.28it/s, loss=0.00247, v_num=1]\n",
            "Validation: 0it [00:00, ?it/s]\u001b[A\n",
            "Validation:   0% 0/1 [00:00<?, ?it/s]\u001b[A\n",
            "Validation DataLoader 0:   0% 0/1 [00:00<?, ?it/s]\u001b[A\n",
            "Validation DataLoader 0: 100% 1/1 [00:04<00:00,  4.54s/it]\u001b[A\n",
            "Epoch 6: 100% 7629/7629 [10:26<00:00, 12.18it/s, loss=0.00247, v_num=1]\n",
            "Epoch 7: 100% 7628/7629 [10:21<00:00, 12.27it/s, loss=0.00231, v_num=1]\n",
            "Validation: 0it [00:00, ?it/s]\u001b[A\n",
            "Validation:   0% 0/1 [00:00<?, ?it/s]\u001b[A\n",
            "Validation DataLoader 0:   0% 0/1 [00:00<?, ?it/s]\u001b[A\n",
            "Validation DataLoader 0: 100% 1/1 [00:04<00:00,  4.53s/it]\u001b[A\n",
            "Epoch 7: 100% 7629/7629 [10:26<00:00, 12.17it/s, loss=0.00231, v_num=1]\n",
            "Epoch 8: 100% 7628/7629 [10:21<00:00, 12.27it/s, loss=0.00223, v_num=1]\n",
            "Validation: 0it [00:00, ?it/s]\u001b[A\n",
            "Validation:   0% 0/1 [00:00<?, ?it/s]\u001b[A\n",
            "Validation DataLoader 0:   0% 0/1 [00:00<?, ?it/s]\u001b[A\n",
            "Validation DataLoader 0: 100% 1/1 [00:04<00:00,  4.54s/it]\u001b[A\n",
            "Epoch 8: 100% 7629/7629 [10:26<00:00, 12.17it/s, loss=0.00223, v_num=1]\n",
            "Epoch 9: 100% 7628/7629 [10:28<00:00, 12.14it/s, loss=0.00207, v_num=1]\n",
            "Validation: 0it [00:00, ?it/s]\u001b[A\n",
            "Validation:   0% 0/1 [00:00<?, ?it/s]\u001b[A\n",
            "Validation DataLoader 0:   0% 0/1 [00:00<?, ?it/s]\u001b[A\n",
            "Validation DataLoader 0: 100% 1/1 [00:04<00:00,  4.54s/it]\u001b[A\n",
            "Epoch 9: 100% 7629/7629 [10:33<00:00, 12.04it/s, loss=0.00207, v_num=1]\n",
            "Epoch 10: 100% 7628/7629 [10:28<00:00, 12.13it/s, loss=0.00193, v_num=1]\n",
            "Validation: 0it [00:00, ?it/s]\u001b[A\n",
            "Validation:   0% 0/1 [00:00<?, ?it/s]\u001b[A\n",
            "Validation DataLoader 0:   0% 0/1 [00:00<?, ?it/s]\u001b[A\n",
            "Validation DataLoader 0: 100% 1/1 [00:04<00:00,  4.54s/it]\u001b[A\n",
            "Epoch 10: 100% 7629/7629 [10:33<00:00, 12.03it/s, loss=0.00193, v_num=1]\n",
            "Epoch 11: 100% 7628/7629 [10:28<00:00, 12.13it/s, loss=0.00188, v_num=1]\n",
            "Validation: 0it [00:00, ?it/s]\u001b[A\n",
            "Validation:   0% 0/1 [00:00<?, ?it/s]\u001b[A\n",
            "Validation DataLoader 0:   0% 0/1 [00:00<?, ?it/s]\u001b[A\n",
            "Validation DataLoader 0: 100% 1/1 [00:04<00:00,  4.54s/it]\u001b[A\n",
            "Epoch 11: 100% 7629/7629 [10:34<00:00, 12.03it/s, loss=0.00188, v_num=1]\n",
            "Epoch 12: 100% 7628/7629 [10:28<00:00, 12.14it/s, loss=0.00183, v_num=1]\n",
            "Validation: 0it [00:00, ?it/s]\u001b[A\n",
            "Validation:   0% 0/1 [00:00<?, ?it/s]\u001b[A\n",
            "Validation DataLoader 0:   0% 0/1 [00:00<?, ?it/s]\u001b[A\n",
            "Validation DataLoader 0: 100% 1/1 [00:04<00:00,  4.54s/it]\u001b[A\n",
            "Epoch 12: 100% 7629/7629 [10:33<00:00, 12.04it/s, loss=0.00183, v_num=1]\n",
            "Epoch 13: 100% 7628/7629 [10:30<00:00, 12.10it/s, loss=0.0017, v_num=1]\n",
            "Validation: 0it [00:00, ?it/s]\u001b[A\n",
            "Validation:   0% 0/1 [00:00<?, ?it/s]\u001b[A\n",
            "Validation DataLoader 0:   0% 0/1 [00:00<?, ?it/s]\u001b[A\n",
            "Validation DataLoader 0: 100% 1/1 [00:04<00:00,  4.54s/it]\u001b[A\n",
            "Epoch 13: 100% 7629/7629 [10:35<00:00, 12.00it/s, loss=0.0017, v_num=1]\n",
            "Epoch 14: 100% 7628/7629 [10:28<00:00, 12.13it/s, loss=0.00164, v_num=1]\n",
            "Validation: 0it [00:00, ?it/s]\u001b[A\n",
            "Validation:   0% 0/1 [00:00<?, ?it/s]\u001b[A\n",
            "Validation DataLoader 0:   0% 0/1 [00:00<?, ?it/s]\u001b[A\n",
            "Validation DataLoader 0: 100% 1/1 [00:04<00:00,  4.55s/it]\u001b[A\n",
            "Epoch 14: 100% 7629/7629 [10:33<00:00, 12.04it/s, loss=0.00164, v_num=1]\n",
            "Epoch 15: 100% 7628/7629 [10:30<00:00, 12.09it/s, loss=0.00159, v_num=1]\n",
            "Validation: 0it [00:00, ?it/s]\u001b[A\n",
            "Validation:   0% 0/1 [00:00<?, ?it/s]\u001b[A\n",
            "Validation DataLoader 0:   0% 0/1 [00:00<?, ?it/s]\u001b[A\n",
            "Validation DataLoader 0: 100% 1/1 [00:04<00:00,  4.55s/it]\u001b[A\n",
            "Epoch 15: 100% 7629/7629 [10:36<00:00, 11.99it/s, loss=0.00159, v_num=1]\n",
            "Epoch 16: 100% 7628/7629 [10:30<00:00, 12.10it/s, loss=0.0015, v_num=1] \n",
            "Validation: 0it [00:00, ?it/s]\u001b[A\n",
            "Validation:   0% 0/1 [00:00<?, ?it/s]\u001b[A\n",
            "Validation DataLoader 0:   0% 0/1 [00:00<?, ?it/s]\u001b[A\n",
            "Validation DataLoader 0: 100% 1/1 [00:04<00:00,  4.53s/it]\u001b[A\n",
            "Epoch 16: 100% 7629/7629 [10:35<00:00, 12.00it/s, loss=0.0015, v_num=1]\n",
            "Epoch 17: 100% 7628/7629 [10:30<00:00, 12.10it/s, loss=0.00153, v_num=1]\n",
            "Validation: 0it [00:00, ?it/s]\u001b[A\n",
            "Validation:   0% 0/1 [00:00<?, ?it/s]\u001b[A\n",
            "Validation DataLoader 0:   0% 0/1 [00:00<?, ?it/s]\u001b[A\n",
            "Validation DataLoader 0: 100% 1/1 [00:04<00:00,  4.54s/it]\u001b[A\n",
            "Epoch 17: 100% 7629/7629 [10:35<00:00, 12.00it/s, loss=0.00153, v_num=1]\n",
            "Epoch 18: 100% 7628/7629 [10:30<00:00, 12.10it/s, loss=0.00141, v_num=1]\n",
            "Validation: 0it [00:00, ?it/s]\u001b[A\n",
            "Validation:   0% 0/1 [00:00<?, ?it/s]\u001b[A\n",
            "Validation DataLoader 0:   0% 0/1 [00:00<?, ?it/s]\u001b[A\n",
            "Validation DataLoader 0: 100% 1/1 [00:04<00:00,  4.54s/it]\u001b[A\n",
            "Epoch 18: 100% 7629/7629 [10:35<00:00, 12.00it/s, loss=0.00141, v_num=1]\n",
            "Epoch 19: 100% 7628/7629 [10:27<00:00, 12.15it/s, loss=0.00141, v_num=1]\n",
            "Validation: 0it [00:00, ?it/s]\u001b[A\n",
            "Validation:   0% 0/1 [00:00<?, ?it/s]\u001b[A\n",
            "Validation DataLoader 0:   0% 0/1 [00:00<?, ?it/s]\u001b[A\n",
            "Validation DataLoader 0: 100% 1/1 [00:04<00:00,  4.53s/it]\u001b[A\n",
            "Epoch 19: 100% 7629/7629 [10:33<00:00, 12.05it/s, loss=0.00141, v_num=1]\n",
            "Epoch 20: 100% 7628/7629 [10:27<00:00, 12.15it/s, loss=0.00134, v_num=1]\n",
            "Validation: 0it [00:00, ?it/s]\u001b[A\n",
            "Validation:   0% 0/1 [00:00<?, ?it/s]\u001b[A\n",
            "Validation DataLoader 0:   0% 0/1 [00:00<?, ?it/s]\u001b[A\n",
            "Validation DataLoader 0: 100% 1/1 [00:04<00:00,  4.54s/it]\u001b[A\n",
            "Epoch 20: 100% 7629/7629 [10:33<00:00, 12.05it/s, loss=0.00134, v_num=1]\n",
            "Epoch 21: 100% 7628/7629 [10:28<00:00, 12.15it/s, loss=0.00131, v_num=1]\n",
            "Validation: 0it [00:00, ?it/s]\u001b[A\n",
            "Validation:   0% 0/1 [00:00<?, ?it/s]\u001b[A\n",
            "Validation DataLoader 0:   0% 0/1 [00:00<?, ?it/s]\u001b[A\n",
            "Validation DataLoader 0: 100% 1/1 [00:04<00:00,  4.53s/it]\u001b[A\n",
            "Epoch 21: 100% 7629/7629 [10:33<00:00, 12.05it/s, loss=0.00131, v_num=1]\n",
            "Epoch 22: 100% 7628/7629 [10:28<00:00, 12.15it/s, loss=0.00124, v_num=1]\n",
            "Validation: 0it [00:00, ?it/s]\u001b[A\n",
            "Validation:   0% 0/1 [00:00<?, ?it/s]\u001b[A\n",
            "Validation DataLoader 0:   0% 0/1 [00:00<?, ?it/s]\u001b[A\n",
            "Validation DataLoader 0: 100% 1/1 [00:04<00:00,  4.53s/it]\u001b[A\n",
            "Epoch 22: 100% 7629/7629 [10:33<00:00, 12.05it/s, loss=0.00124, v_num=1]\n",
            "Epoch 23: 100% 7628/7629 [10:28<00:00, 12.14it/s, loss=0.00126, v_num=1]\n",
            "Validation: 0it [00:00, ?it/s]\u001b[A\n",
            "Validation:   0% 0/1 [00:00<?, ?it/s]\u001b[A\n",
            "Validation DataLoader 0:   0% 0/1 [00:00<?, ?it/s]\u001b[A\n",
            "Validation DataLoader 0: 100% 1/1 [00:04<00:00,  4.54s/it]\u001b[A\n",
            "Epoch 23: 100% 7629/7629 [10:33<00:00, 12.04it/s, loss=0.00126, v_num=1]\n",
            "Epoch 24: 100% 7628/7629 [10:28<00:00, 12.14it/s, loss=0.00124, v_num=1]\n",
            "Validation: 0it [00:00, ?it/s]\u001b[A\n",
            "Validation:   0% 0/1 [00:00<?, ?it/s]\u001b[A\n",
            "Validation DataLoader 0:   0% 0/1 [00:00<?, ?it/s]\u001b[A\n",
            "Validation DataLoader 0: 100% 1/1 [00:04<00:00,  4.55s/it]\u001b[A\n",
            "Epoch 24: 100% 7629/7629 [10:33<00:00, 12.04it/s, loss=0.00124, v_num=1]\n",
            "Epoch 25: 100% 7628/7629 [10:24<00:00, 12.21it/s, loss=0.00117, v_num=1]\n",
            "Validation: 0it [00:00, ?it/s]\u001b[A\n",
            "Validation:   0% 0/1 [00:00<?, ?it/s]\u001b[A\n",
            "Validation DataLoader 0:   0% 0/1 [00:00<?, ?it/s]\u001b[A\n",
            "Validation DataLoader 0: 100% 1/1 [00:04<00:00,  4.53s/it]\u001b[A\n",
            "Epoch 25: 100% 7629/7629 [10:29<00:00, 12.11it/s, loss=0.00117, v_num=1]\n",
            "Epoch 26: 100% 7628/7629 [10:26<00:00, 12.18it/s, loss=0.00116, v_num=1]\n",
            "Validation: 0it [00:00, ?it/s]\u001b[A\n",
            "Validation:   0% 0/1 [00:00<?, ?it/s]\u001b[A\n",
            "Validation DataLoader 0:   0% 0/1 [00:00<?, ?it/s]\u001b[A\n",
            "Validation DataLoader 0: 100% 1/1 [00:04<00:00,  4.53s/it]\u001b[A\n",
            "Epoch 26: 100% 7629/7629 [10:31<00:00, 12.08it/s, loss=0.00116, v_num=1]\n",
            "Epoch 27: 100% 7628/7629 [10:24<00:00, 12.22it/s, loss=0.00114, v_num=1]\n",
            "Validation: 0it [00:00, ?it/s]\u001b[A\n",
            "Validation:   0% 0/1 [00:00<?, ?it/s]\u001b[A\n",
            "Validation DataLoader 0:   0% 0/1 [00:00<?, ?it/s]\u001b[A\n",
            "Validation DataLoader 0: 100% 1/1 [00:04<00:00,  4.53s/it]\u001b[A\n",
            "Epoch 27: 100% 7629/7629 [10:29<00:00, 12.12it/s, loss=0.00114, v_num=1]\n",
            "Epoch 28: 100% 7628/7629 [10:24<00:00, 12.22it/s, loss=0.00117, v_num=1]\n",
            "Validation: 0it [00:00, ?it/s]\u001b[A\n",
            "Validation:   0% 0/1 [00:00<?, ?it/s]\u001b[A\n",
            "Validation DataLoader 0:   0% 0/1 [00:00<?, ?it/s]\u001b[A\n",
            "Validation DataLoader 0: 100% 1/1 [00:04<00:00,  4.53s/it]\u001b[A\n",
            "Epoch 28: 100% 7629/7629 [10:29<00:00, 12.12it/s, loss=0.00117, v_num=1]\n",
            "Epoch 29: 100% 7628/7629 [10:24<00:00, 12.22it/s, loss=0.00116, v_num=1]\n",
            "Validation: 0it [00:00, ?it/s]\u001b[A\n",
            "Validation:   0% 0/1 [00:00<?, ?it/s]\u001b[A\n",
            "Validation DataLoader 0:   0% 0/1 [00:00<?, ?it/s]\u001b[A\n",
            "Validation DataLoader 0: 100% 1/1 [00:04<00:00,  4.53s/it]\u001b[A\n",
            "Epoch 29: 100% 7629/7629 [10:29<00:00, 12.12it/s, loss=0.00116, v_num=1]\n",
            "Epoch 29: 100% 7629/7629 [10:29<00:00, 12.12it/s, loss=0.00116, v_num=1]\n"
          ]
        }
      ],
      "source": [
        "!python train.py \\\n",
        "   --dataset_name llff \\\n",
        "   --root_dir \"$DATA_DIR\" \\\n",
        "   --N_importance 64 --img_wh $IMG_W $IMG_H \\\n",
        "   --num_epochs $NUM_EPOCHS --batch_size 1024 \\\n",
        "   --optimizer adam --lr 5e-4 \\\n",
        "   --lr_scheduler cosine \\\n",
        "   --exp_name $EXP"
      ]
    },
    {
      "cell_type": "markdown",
      "metadata": {
        "id": "aNtw6ZhLxV0p"
      },
      "source": [
        "## Test\n",
        "\n",
        "결과는 results/llff/$SCENE 에 저장된다."
      ]
    },
    {
      "cell_type": "code",
      "execution_count": null,
      "metadata": {
        "colab": {
          "base_uri": "https://localhost:8080/"
        },
        "id": "PL6myKNnxbuO",
        "outputId": "12d1f4ef-c4d5-45ac-ded4-90b4b479245f"
      },
      "outputs": [
        {
          "output_type": "stream",
          "name": "stdout",
          "text": [
            "100% 120/120 [08:17<00:00,  4.14s/it]\n"
          ]
        }
      ],
      "source": [
        "os.environ['SCENE'] = 'fortress'\n",
        "os.environ['CKPT_PATH'] = '/content/drive/MyDrive/YonseiUniversity/MetaArt/nerf_pl/logs/fortress/version_None/checkpoints/epoch=29-step=228840.ckpt'\n",
        "\n",
        "!python eval.py \\\n",
        "   --root_dir \"$DATA_DIR\" \\\n",
        "   --dataset_name llff --scene_name $SCENE \\\n",
        "   --img_wh $IMG_W $IMG_H --N_importance 64 --ckpt_path $CKPT_PATH"
      ]
    }
  ],
  "metadata": {
    "accelerator": "GPU",
    "colab": {
      "collapsed_sections": [],
      "machine_shape": "hm",
      "provenance": []
    },
    "gpuClass": "premium",
    "kernelspec": {
      "display_name": "Python 3",
      "name": "python3"
    },
    "language_info": {
      "name": "python"
    }
  },
  "nbformat": 4,
  "nbformat_minor": 0
}