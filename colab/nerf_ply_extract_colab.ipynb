{
  "nbformat": 4,
  "nbformat_minor": 0,
  "metadata": {
    "colab": {
      "provenance": [],
      "collapsed_sections": [],
      "machine_shape": "hm"
    },
    "kernelspec": {
      "name": "python3",
      "display_name": "Python 3"
    },
    "language_info": {
      "name": "python"
    },
    "accelerator": "GPU",
    "gpuClass": "premium"
  },
  "cells": [
    {
      "cell_type": "code",
      "execution_count": 1,
      "metadata": {
        "colab": {
          "base_uri": "https://localhost:8080/"
        },
        "id": "DT20RiTzNbeW",
        "outputId": "5c9568fa-77c6-49d9-c6cb-67803612ee50"
      },
      "outputs": [
        {
          "output_type": "stream",
          "name": "stdout",
          "text": [
            "Thu Nov  3 12:04:28 2022       \n",
            "+-----------------------------------------------------------------------------+\n",
            "| NVIDIA-SMI 460.32.03    Driver Version: 460.32.03    CUDA Version: 11.2     |\n",
            "|-------------------------------+----------------------+----------------------+\n",
            "| GPU  Name        Persistence-M| Bus-Id        Disp.A | Volatile Uncorr. ECC |\n",
            "| Fan  Temp  Perf  Pwr:Usage/Cap|         Memory-Usage | GPU-Util  Compute M. |\n",
            "|                               |                      |               MIG M. |\n",
            "|===============================+======================+======================|\n",
            "|   0  A100-SXM4-40GB      Off  | 00000000:00:04.0 Off |                    0 |\n",
            "| N/A   37C    P0    48W / 400W |      0MiB / 40536MiB |      0%      Default |\n",
            "|                               |                      |             Disabled |\n",
            "+-------------------------------+----------------------+----------------------+\n",
            "                                                                               \n",
            "+-----------------------------------------------------------------------------+\n",
            "| Processes:                                                                  |\n",
            "|  GPU   GI   CI        PID   Type   Process name                  GPU Memory |\n",
            "|        ID   ID                                                   Usage      |\n",
            "|=============================================================================|\n",
            "|  No running processes found                                                 |\n",
            "+-----------------------------------------------------------------------------+\n",
            "nvcc: NVIDIA (R) Cuda compiler driver\n",
            "Copyright (c) 2005-2021 NVIDIA Corporation\n",
            "Built on Sun_Feb_14_21:12:58_PST_2021\n",
            "Cuda compilation tools, release 11.2, V11.2.152\n",
            "Build cuda_11.2.r11.2/compiler.29618528_0\n"
          ]
        }
      ],
      "source": [
        "!nvidia-smi\n",
        "!nvcc --version"
      ]
    },
    {
      "cell_type": "markdown",
      "source": [
        "# nerf-pl 에서 mesh 뽑아내기\n",
        "\n",
        "원격으로 mesh 를 뽑아내기 위해 mesh extractor 를 colab 으로 구현한다.\n",
        "\n",
        "이를 위해 최신사양에 맞는 colab에서 돌아가게 수정한 nerf-pl 을 사용한다."
      ],
      "metadata": {
        "id": "-ee2KbMVNtcy"
      }
    },
    {
      "cell_type": "code",
      "source": [
        "from google.colab import drive\n",
        "drive.mount('/content/drive')"
      ],
      "metadata": {
        "colab": {
          "base_uri": "https://localhost:8080/"
        },
        "id": "Qnl1bJW9N_0Y",
        "outputId": "02488472-0cb8-4bd0-9928-4d3b3bfe1e52"
      },
      "execution_count": 2,
      "outputs": [
        {
          "output_type": "stream",
          "name": "stdout",
          "text": [
            "Drive already mounted at /content/drive; to attempt to forcibly remount, call drive.mount(\"/content/drive\", force_remount=True).\n"
          ]
        }
      ]
    },
    {
      "cell_type": "code",
      "source": [
        "TARGET_PATH = \"/content/drive/MyDrive/YonseiUniversity/MetaArt\"\n",
        "%cd $TARGET_PATH"
      ],
      "metadata": {
        "colab": {
          "base_uri": "https://localhost:8080/"
        },
        "id": "FxtWjk0-OH7t",
        "outputId": "e73810ad-9e22-41ed-9717-cb8c97a9593a"
      },
      "execution_count": 3,
      "outputs": [
        {
          "output_type": "stream",
          "name": "stdout",
          "text": [
            "/content/drive/MyDrive/YonseiUniversity/MetaArt\n"
          ]
        }
      ]
    },
    {
      "cell_type": "markdown",
      "metadata": {
        "id": "WgR3MYjlt2O5"
      },
      "source": [
        "Target path 에 nerf-pl 폴더가 없는 경우 github 에서 clone 한다.\n",
        "\n",
        "만약에 있는 경우는 아래 단계는 스킵한다."
      ]
    },
    {
      "cell_type": "code",
      "execution_count": 4,
      "metadata": {
        "colab": {
          "base_uri": "https://localhost:8080/"
        },
        "id": "x5D-M870s6Q7",
        "outputId": "bf9952a9-4c9b-4b5c-a7e8-4ff8df1e25dd"
      },
      "outputs": [
        {
          "output_type": "stream",
          "name": "stdout",
          "text": [
            "fatal: destination path 'nerf_pl' already exists and is not an empty directory.\n"
          ]
        }
      ],
      "source": [
        "!git clone https://github.com/maroomir/nerf_pl.git"
      ]
    },
    {
      "cell_type": "markdown",
      "metadata": {
        "id": "QxueIfM8u8-C"
      },
      "source": [
        "pip 설치를 위해 여기는 반드시 실행해야한다."
      ]
    },
    {
      "cell_type": "code",
      "execution_count": 5,
      "metadata": {
        "colab": {
          "base_uri": "https://localhost:8080/"
        },
        "id": "Bflt7BafvOAy",
        "outputId": "0f4c1045-a8a9-4e81-c609-4720c93463c1"
      },
      "outputs": [
        {
          "output_type": "stream",
          "name": "stdout",
          "text": [
            "/content/drive/MyDrive/YonseiUniversity/MetaArt/nerf_pl\n",
            "Looking in indexes: https://pypi.org/simple, https://us-python.pkg.dev/colab-wheels/public/simple/\n",
            "Requirement already satisfied: torch in /usr/local/lib/python3.7/dist-packages (from -r requirements.txt (line 1)) (1.12.1+cu113)\n",
            "Requirement already satisfied: torchvision in /usr/local/lib/python3.7/dist-packages (from -r requirements.txt (line 2)) (0.13.1+cu113)\n",
            "Requirement already satisfied: pytorch-lightning<1.7.0 in /usr/local/lib/python3.7/dist-packages (from -r requirements.txt (line 3)) (1.6.5)\n",
            "Requirement already satisfied: test-tube in /usr/local/lib/python3.7/dist-packages (from -r requirements.txt (line 4)) (0.7.5)\n",
            "Requirement already satisfied: kornia in /usr/local/lib/python3.7/dist-packages (from -r requirements.txt (line 5)) (0.6.8)\n",
            "Requirement already satisfied: opencv-python in /usr/local/lib/python3.7/dist-packages (from -r requirements.txt (line 6)) (4.6.0.66)\n",
            "Requirement already satisfied: matplotlib in /usr/local/lib/python3.7/dist-packages (from -r requirements.txt (line 7)) (3.2.2)\n",
            "Requirement already satisfied: jupyter in /usr/local/lib/python3.7/dist-packages (from -r requirements.txt (line 8)) (1.0.0)\n",
            "Requirement already satisfied: PyMCubes in /usr/local/lib/python3.7/dist-packages (from -r requirements.txt (line 11)) (0.1.2)\n",
            "Requirement already satisfied: pycollada in /usr/local/lib/python3.7/dist-packages (from -r requirements.txt (line 12)) (0.7.2)\n",
            "Requirement already satisfied: trimesh in /usr/local/lib/python3.7/dist-packages (from -r requirements.txt (line 13)) (3.15.8)\n",
            "Requirement already satisfied: pyglet in /usr/local/lib/python3.7/dist-packages (from -r requirements.txt (line 14)) (2.0.0)\n",
            "Requirement already satisfied: plyfile in /usr/local/lib/python3.7/dist-packages (from -r requirements.txt (line 17)) (0.7.4)\n",
            "Requirement already satisfied: open3d in /usr/local/lib/python3.7/dist-packages (from -r requirements.txt (line 18)) (0.16.0)\n",
            "Requirement already satisfied: packaging>=17.0 in /usr/local/lib/python3.7/dist-packages (from pytorch-lightning<1.7.0->-r requirements.txt (line 3)) (21.3)\n",
            "Requirement already satisfied: typing-extensions>=4.0.0 in /usr/local/lib/python3.7/dist-packages (from pytorch-lightning<1.7.0->-r requirements.txt (line 3)) (4.1.1)\n",
            "Requirement already satisfied: tensorboard>=2.2.0 in /usr/local/lib/python3.7/dist-packages (from pytorch-lightning<1.7.0->-r requirements.txt (line 3)) (2.9.1)\n",
            "Requirement already satisfied: torchmetrics>=0.4.1 in /usr/local/lib/python3.7/dist-packages (from pytorch-lightning<1.7.0->-r requirements.txt (line 3)) (0.10.2)\n",
            "Requirement already satisfied: tqdm>=4.57.0 in /usr/local/lib/python3.7/dist-packages (from pytorch-lightning<1.7.0->-r requirements.txt (line 3)) (4.64.1)\n",
            "Requirement already satisfied: numpy>=1.17.2 in /usr/local/lib/python3.7/dist-packages (from pytorch-lightning<1.7.0->-r requirements.txt (line 3)) (1.21.6)\n",
            "Requirement already satisfied: protobuf<=3.20.1 in /usr/local/lib/python3.7/dist-packages (from pytorch-lightning<1.7.0->-r requirements.txt (line 3)) (3.17.3)\n",
            "Requirement already satisfied: pyDeprecate>=0.3.1 in /usr/local/lib/python3.7/dist-packages (from pytorch-lightning<1.7.0->-r requirements.txt (line 3)) (0.3.2)\n",
            "Requirement already satisfied: PyYAML>=5.4 in /usr/local/lib/python3.7/dist-packages (from pytorch-lightning<1.7.0->-r requirements.txt (line 3)) (6.0)\n",
            "Requirement already satisfied: fsspec[http]!=2021.06.0,>=2021.05.0 in /usr/local/lib/python3.7/dist-packages (from pytorch-lightning<1.7.0->-r requirements.txt (line 3)) (2022.10.0)\n",
            "Requirement already satisfied: requests in /usr/local/lib/python3.7/dist-packages (from fsspec[http]!=2021.06.0,>=2021.05.0->pytorch-lightning<1.7.0->-r requirements.txt (line 3)) (2.23.0)\n",
            "Requirement already satisfied: aiohttp!=4.0.0a0,!=4.0.0a1 in /usr/local/lib/python3.7/dist-packages (from fsspec[http]!=2021.06.0,>=2021.05.0->pytorch-lightning<1.7.0->-r requirements.txt (line 3)) (3.8.3)\n",
            "Requirement already satisfied: asynctest==0.13.0 in /usr/local/lib/python3.7/dist-packages (from aiohttp!=4.0.0a0,!=4.0.0a1->fsspec[http]!=2021.06.0,>=2021.05.0->pytorch-lightning<1.7.0->-r requirements.txt (line 3)) (0.13.0)\n",
            "Requirement already satisfied: attrs>=17.3.0 in /usr/local/lib/python3.7/dist-packages (from aiohttp!=4.0.0a0,!=4.0.0a1->fsspec[http]!=2021.06.0,>=2021.05.0->pytorch-lightning<1.7.0->-r requirements.txt (line 3)) (22.1.0)\n",
            "Requirement already satisfied: async-timeout<5.0,>=4.0.0a3 in /usr/local/lib/python3.7/dist-packages (from aiohttp!=4.0.0a0,!=4.0.0a1->fsspec[http]!=2021.06.0,>=2021.05.0->pytorch-lightning<1.7.0->-r requirements.txt (line 3)) (4.0.2)\n",
            "Requirement already satisfied: yarl<2.0,>=1.0 in /usr/local/lib/python3.7/dist-packages (from aiohttp!=4.0.0a0,!=4.0.0a1->fsspec[http]!=2021.06.0,>=2021.05.0->pytorch-lightning<1.7.0->-r requirements.txt (line 3)) (1.8.1)\n",
            "Requirement already satisfied: aiosignal>=1.1.2 in /usr/local/lib/python3.7/dist-packages (from aiohttp!=4.0.0a0,!=4.0.0a1->fsspec[http]!=2021.06.0,>=2021.05.0->pytorch-lightning<1.7.0->-r requirements.txt (line 3)) (1.2.0)\n",
            "Requirement already satisfied: multidict<7.0,>=4.5 in /usr/local/lib/python3.7/dist-packages (from aiohttp!=4.0.0a0,!=4.0.0a1->fsspec[http]!=2021.06.0,>=2021.05.0->pytorch-lightning<1.7.0->-r requirements.txt (line 3)) (6.0.2)\n",
            "Requirement already satisfied: frozenlist>=1.1.1 in /usr/local/lib/python3.7/dist-packages (from aiohttp!=4.0.0a0,!=4.0.0a1->fsspec[http]!=2021.06.0,>=2021.05.0->pytorch-lightning<1.7.0->-r requirements.txt (line 3)) (1.3.1)\n",
            "Requirement already satisfied: charset-normalizer<3.0,>=2.0 in /usr/local/lib/python3.7/dist-packages (from aiohttp!=4.0.0a0,!=4.0.0a1->fsspec[http]!=2021.06.0,>=2021.05.0->pytorch-lightning<1.7.0->-r requirements.txt (line 3)) (2.1.1)\n",
            "Requirement already satisfied: pyparsing!=3.0.5,>=2.0.2 in /usr/local/lib/python3.7/dist-packages (from packaging>=17.0->pytorch-lightning<1.7.0->-r requirements.txt (line 3)) (3.0.9)\n",
            "Requirement already satisfied: six>=1.9 in /usr/local/lib/python3.7/dist-packages (from protobuf<=3.20.1->pytorch-lightning<1.7.0->-r requirements.txt (line 3)) (1.15.0)\n",
            "Requirement already satisfied: wheel>=0.26 in /usr/local/lib/python3.7/dist-packages (from tensorboard>=2.2.0->pytorch-lightning<1.7.0->-r requirements.txt (line 3)) (0.37.1)\n",
            "Requirement already satisfied: grpcio>=1.24.3 in /usr/local/lib/python3.7/dist-packages (from tensorboard>=2.2.0->pytorch-lightning<1.7.0->-r requirements.txt (line 3)) (1.50.0)\n",
            "Requirement already satisfied: tensorboard-data-server<0.7.0,>=0.6.0 in /usr/local/lib/python3.7/dist-packages (from tensorboard>=2.2.0->pytorch-lightning<1.7.0->-r requirements.txt (line 3)) (0.6.1)\n",
            "Requirement already satisfied: werkzeug>=1.0.1 in /usr/local/lib/python3.7/dist-packages (from tensorboard>=2.2.0->pytorch-lightning<1.7.0->-r requirements.txt (line 3)) (1.0.1)\n",
            "Requirement already satisfied: absl-py>=0.4 in /usr/local/lib/python3.7/dist-packages (from tensorboard>=2.2.0->pytorch-lightning<1.7.0->-r requirements.txt (line 3)) (1.3.0)\n",
            "Requirement already satisfied: setuptools>=41.0.0 in /usr/local/lib/python3.7/dist-packages (from tensorboard>=2.2.0->pytorch-lightning<1.7.0->-r requirements.txt (line 3)) (57.4.0)\n",
            "Requirement already satisfied: markdown>=2.6.8 in /usr/local/lib/python3.7/dist-packages (from tensorboard>=2.2.0->pytorch-lightning<1.7.0->-r requirements.txt (line 3)) (3.4.1)\n",
            "Requirement already satisfied: google-auth<3,>=1.6.3 in /usr/local/lib/python3.7/dist-packages (from tensorboard>=2.2.0->pytorch-lightning<1.7.0->-r requirements.txt (line 3)) (1.35.0)\n",
            "Requirement already satisfied: tensorboard-plugin-wit>=1.6.0 in /usr/local/lib/python3.7/dist-packages (from tensorboard>=2.2.0->pytorch-lightning<1.7.0->-r requirements.txt (line 3)) (1.8.1)\n",
            "Requirement already satisfied: google-auth-oauthlib<0.5,>=0.4.1 in /usr/local/lib/python3.7/dist-packages (from tensorboard>=2.2.0->pytorch-lightning<1.7.0->-r requirements.txt (line 3)) (0.4.6)\n",
            "Requirement already satisfied: rsa<5,>=3.1.4 in /usr/local/lib/python3.7/dist-packages (from google-auth<3,>=1.6.3->tensorboard>=2.2.0->pytorch-lightning<1.7.0->-r requirements.txt (line 3)) (4.9)\n",
            "Requirement already satisfied: pyasn1-modules>=0.2.1 in /usr/local/lib/python3.7/dist-packages (from google-auth<3,>=1.6.3->tensorboard>=2.2.0->pytorch-lightning<1.7.0->-r requirements.txt (line 3)) (0.2.8)\n",
            "Requirement already satisfied: cachetools<5.0,>=2.0.0 in /usr/local/lib/python3.7/dist-packages (from google-auth<3,>=1.6.3->tensorboard>=2.2.0->pytorch-lightning<1.7.0->-r requirements.txt (line 3)) (4.2.4)\n",
            "Requirement already satisfied: requests-oauthlib>=0.7.0 in /usr/local/lib/python3.7/dist-packages (from google-auth-oauthlib<0.5,>=0.4.1->tensorboard>=2.2.0->pytorch-lightning<1.7.0->-r requirements.txt (line 3)) (1.3.1)\n",
            "Requirement already satisfied: importlib-metadata>=4.4 in /usr/local/lib/python3.7/dist-packages (from markdown>=2.6.8->tensorboard>=2.2.0->pytorch-lightning<1.7.0->-r requirements.txt (line 3)) (4.13.0)\n",
            "Requirement already satisfied: zipp>=0.5 in /usr/local/lib/python3.7/dist-packages (from importlib-metadata>=4.4->markdown>=2.6.8->tensorboard>=2.2.0->pytorch-lightning<1.7.0->-r requirements.txt (line 3)) (3.10.0)\n",
            "Requirement already satisfied: pyasn1<0.5.0,>=0.4.6 in /usr/local/lib/python3.7/dist-packages (from pyasn1-modules>=0.2.1->google-auth<3,>=1.6.3->tensorboard>=2.2.0->pytorch-lightning<1.7.0->-r requirements.txt (line 3)) (0.4.8)\n",
            "Requirement already satisfied: chardet<4,>=3.0.2 in /usr/local/lib/python3.7/dist-packages (from requests->fsspec[http]!=2021.06.0,>=2021.05.0->pytorch-lightning<1.7.0->-r requirements.txt (line 3)) (3.0.4)\n",
            "Requirement already satisfied: idna<3,>=2.5 in /usr/local/lib/python3.7/dist-packages (from requests->fsspec[http]!=2021.06.0,>=2021.05.0->pytorch-lightning<1.7.0->-r requirements.txt (line 3)) (2.10)\n",
            "Requirement already satisfied: certifi>=2017.4.17 in /usr/local/lib/python3.7/dist-packages (from requests->fsspec[http]!=2021.06.0,>=2021.05.0->pytorch-lightning<1.7.0->-r requirements.txt (line 3)) (2022.9.24)\n",
            "Requirement already satisfied: urllib3!=1.25.0,!=1.25.1,<1.26,>=1.21.1 in /usr/local/lib/python3.7/dist-packages (from requests->fsspec[http]!=2021.06.0,>=2021.05.0->pytorch-lightning<1.7.0->-r requirements.txt (line 3)) (1.24.3)\n",
            "Requirement already satisfied: oauthlib>=3.0.0 in /usr/local/lib/python3.7/dist-packages (from requests-oauthlib>=0.7.0->google-auth-oauthlib<0.5,>=0.4.1->tensorboard>=2.2.0->pytorch-lightning<1.7.0->-r requirements.txt (line 3)) (3.2.2)\n",
            "Requirement already satisfied: pillow!=8.3.*,>=5.3.0 in /usr/local/lib/python3.7/dist-packages (from torchvision->-r requirements.txt (line 2)) (9.3.0)\n",
            "Requirement already satisfied: imageio>=2.3.0 in /usr/local/lib/python3.7/dist-packages (from test-tube->-r requirements.txt (line 4)) (2.9.0)\n",
            "Requirement already satisfied: future in /usr/local/lib/python3.7/dist-packages (from test-tube->-r requirements.txt (line 4)) (0.16.0)\n",
            "Requirement already satisfied: pandas>=0.20.3 in /usr/local/lib/python3.7/dist-packages (from test-tube->-r requirements.txt (line 4)) (1.3.5)\n",
            "Requirement already satisfied: python-dateutil>=2.7.3 in /usr/local/lib/python3.7/dist-packages (from pandas>=0.20.3->test-tube->-r requirements.txt (line 4)) (2.8.2)\n",
            "Requirement already satisfied: pytz>=2017.3 in /usr/local/lib/python3.7/dist-packages (from pandas>=0.20.3->test-tube->-r requirements.txt (line 4)) (2022.5)\n",
            "Requirement already satisfied: kiwisolver>=1.0.1 in /usr/local/lib/python3.7/dist-packages (from matplotlib->-r requirements.txt (line 7)) (1.4.4)\n",
            "Requirement already satisfied: cycler>=0.10 in /usr/local/lib/python3.7/dist-packages (from matplotlib->-r requirements.txt (line 7)) (0.11.0)\n",
            "Requirement already satisfied: notebook in /usr/local/lib/python3.7/dist-packages (from jupyter->-r requirements.txt (line 8)) (5.5.0)\n",
            "Requirement already satisfied: nbconvert in /usr/local/lib/python3.7/dist-packages (from jupyter->-r requirements.txt (line 8)) (5.6.1)\n",
            "Requirement already satisfied: qtconsole in /usr/local/lib/python3.7/dist-packages (from jupyter->-r requirements.txt (line 8)) (5.4.0)\n",
            "Requirement already satisfied: ipykernel in /usr/local/lib/python3.7/dist-packages (from jupyter->-r requirements.txt (line 8)) (5.3.4)\n",
            "Requirement already satisfied: ipywidgets in /usr/local/lib/python3.7/dist-packages (from jupyter->-r requirements.txt (line 8)) (7.7.1)\n",
            "Requirement already satisfied: jupyter-console in /usr/local/lib/python3.7/dist-packages (from jupyter->-r requirements.txt (line 8)) (6.1.0)\n",
            "Requirement already satisfied: scikit-learn>=0.21 in /usr/local/lib/python3.7/dist-packages (from open3d->-r requirements.txt (line 18)) (1.0.2)\n",
            "Requirement already satisfied: nbformat==5.5.0 in /usr/local/lib/python3.7/dist-packages (from open3d->-r requirements.txt (line 18)) (5.5.0)\n",
            "Requirement already satisfied: pyquaternion in /usr/local/lib/python3.7/dist-packages (from open3d->-r requirements.txt (line 18)) (0.9.9)\n",
            "Requirement already satisfied: addict in /usr/local/lib/python3.7/dist-packages (from open3d->-r requirements.txt (line 18)) (2.4.0)\n",
            "Requirement already satisfied: dash>=2.6.0 in /usr/local/lib/python3.7/dist-packages (from open3d->-r requirements.txt (line 18)) (2.6.2)\n",
            "Requirement already satisfied: configargparse in /usr/local/lib/python3.7/dist-packages (from open3d->-r requirements.txt (line 18)) (1.5.3)\n",
            "Requirement already satisfied: jsonschema>=2.6 in /usr/local/lib/python3.7/dist-packages (from nbformat==5.5.0->open3d->-r requirements.txt (line 18)) (4.3.3)\n",
            "Requirement already satisfied: traitlets>=5.1 in /usr/local/lib/python3.7/dist-packages (from nbformat==5.5.0->open3d->-r requirements.txt (line 18)) (5.1.1)\n",
            "Requirement already satisfied: jupyter_core in /usr/local/lib/python3.7/dist-packages (from nbformat==5.5.0->open3d->-r requirements.txt (line 18)) (4.11.2)\n",
            "Requirement already satisfied: fastjsonschema in /usr/local/lib/python3.7/dist-packages (from nbformat==5.5.0->open3d->-r requirements.txt (line 18)) (2.16.2)\n",
            "Requirement already satisfied: dash-html-components==2.0.0 in /usr/local/lib/python3.7/dist-packages (from dash>=2.6.0->open3d->-r requirements.txt (line 18)) (2.0.0)\n",
            "Requirement already satisfied: flask-compress in /usr/local/lib/python3.7/dist-packages (from dash>=2.6.0->open3d->-r requirements.txt (line 18)) (1.13)\n",
            "Requirement already satisfied: dash-table==5.0.0 in /usr/local/lib/python3.7/dist-packages (from dash>=2.6.0->open3d->-r requirements.txt (line 18)) (5.0.0)\n",
            "Requirement already satisfied: Flask>=1.0.4 in /usr/local/lib/python3.7/dist-packages (from dash>=2.6.0->open3d->-r requirements.txt (line 18)) (1.1.4)\n",
            "Requirement already satisfied: plotly>=5.0.0 in /usr/local/lib/python3.7/dist-packages (from dash>=2.6.0->open3d->-r requirements.txt (line 18)) (5.5.0)\n",
            "Requirement already satisfied: dash-core-components==2.0.0 in /usr/local/lib/python3.7/dist-packages (from dash>=2.6.0->open3d->-r requirements.txt (line 18)) (2.0.0)\n",
            "Requirement already satisfied: itsdangerous<2.0,>=0.24 in /usr/local/lib/python3.7/dist-packages (from Flask>=1.0.4->dash>=2.6.0->open3d->-r requirements.txt (line 18)) (1.1.0)\n",
            "Requirement already satisfied: click<8.0,>=5.1 in /usr/local/lib/python3.7/dist-packages (from Flask>=1.0.4->dash>=2.6.0->open3d->-r requirements.txt (line 18)) (7.1.2)\n",
            "Requirement already satisfied: Jinja2<3.0,>=2.10.1 in /usr/local/lib/python3.7/dist-packages (from Flask>=1.0.4->dash>=2.6.0->open3d->-r requirements.txt (line 18)) (2.11.3)\n",
            "Requirement already satisfied: jupyterlab-widgets>=1.0.0 in /usr/local/lib/python3.7/dist-packages (from ipywidgets->jupyter->-r requirements.txt (line 8)) (3.0.3)\n",
            "Requirement already satisfied: widgetsnbextension~=3.6.0 in /usr/local/lib/python3.7/dist-packages (from ipywidgets->jupyter->-r requirements.txt (line 8)) (3.6.1)\n",
            "Requirement already satisfied: ipython>=4.0.0 in /usr/local/lib/python3.7/dist-packages (from ipywidgets->jupyter->-r requirements.txt (line 8)) (7.9.0)\n",
            "Requirement already satisfied: ipython-genutils~=0.2.0 in /usr/local/lib/python3.7/dist-packages (from ipywidgets->jupyter->-r requirements.txt (line 8)) (0.2.0)\n",
            "Requirement already satisfied: jupyter-client in /usr/local/lib/python3.7/dist-packages (from ipykernel->jupyter->-r requirements.txt (line 8)) (6.1.12)\n",
            "Requirement already satisfied: tornado>=4.2 in /usr/local/lib/python3.7/dist-packages (from ipykernel->jupyter->-r requirements.txt (line 8)) (5.1.1)\n",
            "Requirement already satisfied: backcall in /usr/local/lib/python3.7/dist-packages (from ipython>=4.0.0->ipywidgets->jupyter->-r requirements.txt (line 8)) (0.2.0)\n",
            "Requirement already satisfied: decorator in /usr/local/lib/python3.7/dist-packages (from ipython>=4.0.0->ipywidgets->jupyter->-r requirements.txt (line 8)) (4.4.2)\n",
            "Requirement already satisfied: pexpect in /usr/local/lib/python3.7/dist-packages (from ipython>=4.0.0->ipywidgets->jupyter->-r requirements.txt (line 8)) (4.8.0)\n",
            "Requirement already satisfied: pickleshare in /usr/local/lib/python3.7/dist-packages (from ipython>=4.0.0->ipywidgets->jupyter->-r requirements.txt (line 8)) (0.7.5)\n",
            "Requirement already satisfied: prompt-toolkit<2.1.0,>=2.0.0 in /usr/local/lib/python3.7/dist-packages (from ipython>=4.0.0->ipywidgets->jupyter->-r requirements.txt (line 8)) (2.0.10)\n",
            "Requirement already satisfied: jedi>=0.10 in /usr/local/lib/python3.7/dist-packages (from ipython>=4.0.0->ipywidgets->jupyter->-r requirements.txt (line 8)) (0.18.1)\n",
            "Requirement already satisfied: pygments in /usr/local/lib/python3.7/dist-packages (from ipython>=4.0.0->ipywidgets->jupyter->-r requirements.txt (line 8)) (2.6.1)\n",
            "Requirement already satisfied: parso<0.9.0,>=0.8.0 in /usr/local/lib/python3.7/dist-packages (from jedi>=0.10->ipython>=4.0.0->ipywidgets->jupyter->-r requirements.txt (line 8)) (0.8.3)\n",
            "Requirement already satisfied: MarkupSafe>=0.23 in /usr/local/lib/python3.7/dist-packages (from Jinja2<3.0,>=2.10.1->Flask>=1.0.4->dash>=2.6.0->open3d->-r requirements.txt (line 18)) (2.0.1)\n",
            "Requirement already satisfied: importlib-resources>=1.4.0 in /usr/local/lib/python3.7/dist-packages (from jsonschema>=2.6->nbformat==5.5.0->open3d->-r requirements.txt (line 18)) (5.10.0)\n",
            "Requirement already satisfied: pyrsistent!=0.17.0,!=0.17.1,!=0.17.2,>=0.14.0 in /usr/local/lib/python3.7/dist-packages (from jsonschema>=2.6->nbformat==5.5.0->open3d->-r requirements.txt (line 18)) (0.18.1)\n",
            "Requirement already satisfied: tenacity>=6.2.0 in /usr/local/lib/python3.7/dist-packages (from plotly>=5.0.0->dash>=2.6.0->open3d->-r requirements.txt (line 18)) (8.1.0)\n",
            "Requirement already satisfied: wcwidth in /usr/local/lib/python3.7/dist-packages (from prompt-toolkit<2.1.0,>=2.0.0->ipython>=4.0.0->ipywidgets->jupyter->-r requirements.txt (line 8)) (0.2.5)\n",
            "Requirement already satisfied: scipy>=1.1.0 in /usr/local/lib/python3.7/dist-packages (from scikit-learn>=0.21->open3d->-r requirements.txt (line 18)) (1.7.3)\n",
            "Requirement already satisfied: joblib>=0.11 in /usr/local/lib/python3.7/dist-packages (from scikit-learn>=0.21->open3d->-r requirements.txt (line 18)) (1.2.0)\n",
            "Requirement already satisfied: threadpoolctl>=2.0.0 in /usr/local/lib/python3.7/dist-packages (from scikit-learn>=0.21->open3d->-r requirements.txt (line 18)) (3.1.0)\n",
            "Requirement already satisfied: Send2Trash in /usr/local/lib/python3.7/dist-packages (from notebook->jupyter->-r requirements.txt (line 8)) (1.8.0)\n",
            "Requirement already satisfied: pyzmq>=17 in /usr/local/lib/python3.7/dist-packages (from notebook->jupyter->-r requirements.txt (line 8)) (23.2.1)\n",
            "Requirement already satisfied: terminado>=0.8.1 in /usr/local/lib/python3.7/dist-packages (from notebook->jupyter->-r requirements.txt (line 8)) (0.13.3)\n",
            "Requirement already satisfied: ptyprocess in /usr/local/lib/python3.7/dist-packages (from terminado>=0.8.1->notebook->jupyter->-r requirements.txt (line 8)) (0.7.0)\n",
            "Requirement already satisfied: brotli in /usr/local/lib/python3.7/dist-packages (from flask-compress->dash>=2.6.0->open3d->-r requirements.txt (line 18)) (1.0.9)\n",
            "Requirement already satisfied: mistune<2,>=0.8.1 in /usr/local/lib/python3.7/dist-packages (from nbconvert->jupyter->-r requirements.txt (line 8)) (0.8.4)\n",
            "Requirement already satisfied: entrypoints>=0.2.2 in /usr/local/lib/python3.7/dist-packages (from nbconvert->jupyter->-r requirements.txt (line 8)) (0.4)\n",
            "Requirement already satisfied: testpath in /usr/local/lib/python3.7/dist-packages (from nbconvert->jupyter->-r requirements.txt (line 8)) (0.6.0)\n",
            "Requirement already satisfied: pandocfilters>=1.4.1 in /usr/local/lib/python3.7/dist-packages (from nbconvert->jupyter->-r requirements.txt (line 8)) (1.5.0)\n",
            "Requirement already satisfied: defusedxml in /usr/local/lib/python3.7/dist-packages (from nbconvert->jupyter->-r requirements.txt (line 8)) (0.7.1)\n",
            "Requirement already satisfied: bleach in /usr/local/lib/python3.7/dist-packages (from nbconvert->jupyter->-r requirements.txt (line 8)) (5.0.1)\n",
            "Requirement already satisfied: webencodings in /usr/local/lib/python3.7/dist-packages (from bleach->nbconvert->jupyter->-r requirements.txt (line 8)) (0.5.1)\n",
            "Requirement already satisfied: qtpy>=2.0.1 in /usr/local/lib/python3.7/dist-packages (from qtconsole->jupyter->-r requirements.txt (line 8)) (2.2.1)\n"
          ]
        }
      ],
      "source": [
        "%cd nerf_pl\n",
        "!pip install -r requirements.txt"
      ]
    },
    {
      "cell_type": "markdown",
      "metadata": {
        "id": "MX-0OSxi-9Uo"
      },
      "source": [
        "## Nerf Model 불러오기\n",
        "\n",
        "기존에 nerf_pl_trainer 에서 훈련한 model을 불러오기 위해 Path를 정의한다."
      ]
    },
    {
      "cell_type": "code",
      "execution_count": 6,
      "metadata": {
        "id": "eGDyBnIk9Vy3"
      },
      "outputs": [],
      "source": [
        "# Change here #\n",
        "img_wh = (4032, 3024) # full resolution of the input images\n",
        "dataset_name = 'llff' # blender or llff (own data)\n",
        "scene_name = 'fortress' # whatever you want\n",
        "root_dir = '/content/drive/MyDrive/YonseiUniversity/MetaArt/nerf-pytorch/data/nerf_llff_data/fortress' # the folder containing data (images/ and poses_bounds.npy)\n",
        "ckpt_path = '/content/drive/MyDrive/YonseiUniversity/MetaArt/nerf_pl/logs/fortress/version_None/checkpoints/epoch=29-step=228840.ckpt' # the model path\n",
        "###############\n",
        "N = 128 # controls the resolution, set this number small here because we're only finding\n",
        "        # good ranges here, not yet for mesh reconstruction; we can set this number high\n",
        "        # when it comes to final reconstruction.\n",
        "xmin, xmax = -1, 1 # left/right range\n",
        "ymin, ymax = -1, 1 # forward/backward range\n",
        "zmin, zmax = -1, 1 # up/down range\n",
        "## Attention! the ranges MUST have the same length!\n",
        "sigma_threshold = 20. # controls the noise (lower=maybe more noise; higher=some mesh might be missing)\n",
        "###############"
      ]
    },
    {
      "cell_type": "markdown",
      "source": [
        "## Color 뽑아내기\n",
        "\n"
      ],
      "metadata": {
        "id": "5ijXiNPRWyja"
      }
    },
    {
      "cell_type": "code",
      "source": [
        "import os\n",
        "os.environ['ROOT_DIR'] = root_dir\n",
        "os.environ['DATASET_NAME'] = dataset_name\n",
        "os.environ['SCENE_NAME'] = scene_name\n",
        "os.environ['IMG_SIZE'] = f\"{img_wh[0]} {img_wh[1]}\"\n",
        "os.environ['CKPT_PATH'] = ckpt_path\n",
        "os.environ['N_GRID'] = \"512\" # final resolution. You can set this number high to preserve more details\n",
        "os.environ['X_RANGE'] = f\"{xmin} {xmax}\"\n",
        "os.environ['Y_RANGE'] = f\"{ymin} {ymax}\"\n",
        "os.environ['Z_RANGE'] = f\"{zmin} {zmax}\"\n",
        "os.environ['SIGMA_THRESHOLD'] = str(sigma_threshold)\n",
        "os.environ['OCC_THRESHOLD'] = \"0.2\" # probably doesn't require tuning. If you find the color is not close\n",
        "                                    # to real, try to set this number smaller (the effect of this number\n",
        "                                    # is explained in my youtube video)\n",
        "\n",
        "!python extract_color_mesh.py \\\n",
        "    --root_dir \"$ROOT_DIR\" \\\n",
        "    --dataset_name $DATASET_NAME \\\n",
        "    --scene_name $SCENE_NAME \\\n",
        "    --img_wh $IMG_SIZE \\\n",
        "    --ckpt_path $CKPT_PATH \\\n",
        "    --N_grid $N_GRID \\\n",
        "    --x_range $X_RANGE \\\n",
        "    --y_range $Y_RANGE \\\n",
        "    --z_range $Z_RANGE \\\n",
        "    --sigma_threshold $SIGMA_THRESHOLD \\\n",
        "    --occ_threshold $OCC_THRESHOLD"
      ],
      "metadata": {
        "colab": {
          "base_uri": "https://localhost:8080/"
        },
        "id": "dU0lqySuWy2s",
        "outputId": "74771f63-e46c-4964-9170-9013166b63d1"
      },
      "execution_count": 7,
      "outputs": [
        {
          "output_type": "stream",
          "name": "stdout",
          "text": [
            "tcmalloc: large alloc 1073741824 bytes == 0x5f298000 @  0x7f39422db1e7 0x7f38d1b920ce 0x7f38d1bec726 0x7f38d1bdf475 0x7f38d1c7fe51 0x4d22a6 0x51041f 0x5b4ee6 0x58ff2e 0x50c4fc 0x5b575e 0x4bad99 0x7f38d1bd3944 0x58f67f 0x50ff13 0x5b4ee6 0x58ff2e 0x510325 0x5b4ee6 0x6005a3 0x607796 0x60785c 0x60a436 0x64db82 0x64dd2e 0x7f3941ed8c87 0x5b636a\n",
            "tcmalloc: large alloc 3221225472 bytes == 0x11f298000 @  0x7f39422db1e7 0x7f38d1b920ce 0x7f38d1be8cf5 0x7f38d1c9186d 0x7f38d1c9217f 0x7f38d1c922d0 0x4ba72b 0x7f38d1bd3944 0x58f67f 0x50ff13 0x5b4ee6 0x58ff2e 0x50d482 0x5b575e 0x4bad99 0x7f38d1bd3944 0x58f67f 0x50ff13 0x5b4ee6 0x58ff2e 0x510325 0x5b4ee6 0x6005a3 0x607796 0x60785c 0x60a436 0x64db82 0x64dd2e 0x7f3941ed8c87 0x5b636a\n",
            "tcmalloc: large alloc 1610612736 bytes == 0x5f298000 @  0x7f39422bdb6b 0x7f39422dd379 0x7f38d287ad57 0x7f38d2868bc3 0x7f38fc77287f 0x7f38fc772aca 0x7f38fc772b2f 0x7f38fcc85e49 0x7f38fd4f7cb0 0x7f38fd2433ee 0x7f38fd4d0e4e 0x7f38fd2832c2 0x7f38fcc802f1 0x7f38fd64a64b 0x7f38fcfcdfff 0x7f38fd4d2fcc 0x7f38fcfcdfff 0x7f38fe54b12b 0x7f38fe54b5ae 0x7f38fd045fa4 0x7f38fcc755f7 0x7f38fd748b19 0x7f38fd17661a 0x7f3924a12003 0x7f3924a12ffe 0x7f3924a135ef 0x7f3924a14880 0x7f39249dd1b9 0x590618 0x510946 0x5b4ee6\n",
            "Predicting occupancy ...\n",
            "100% 4096/4096 [00:20<00:00, 203.63it/s]\n",
            "Extracting mesh ...\n",
            "Removing noise ...\n",
            "Mesh has 5.50 M vertices and 11.00 M faces.\n",
            "Fusing colors ...\n",
            "  0% 0/42 [00:00<?, ?it/s]extract_color_mesh.py:216: DeprecationWarning: LANCZOS is deprecated and will be removed in Pillow 10 (2023-07-01). Use Resampling.LANCZOS instead.\n",
            "  image = image.resize(tuple(args.img_wh), Image.LANCZOS)\n",
            "100% 42/42 [23:54<00:00, 34.16s/it]\n",
            "Done!\n"
          ]
        }
      ]
    }
  ]
}