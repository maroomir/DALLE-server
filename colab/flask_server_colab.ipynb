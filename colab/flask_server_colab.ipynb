{
 "cells": [
  {
   "cell_type": "markdown",
   "source": [
    "# Google Colab 에 REST API Server 구축하기\n",
    "\n",
    "Google Colab 을 REST API 를 위한 Back-end server 처럼 구동합니다.\n",
    "이를 위해서 ngrok 을 사용 하는데, 특성상 8시간만 링크를 유지할 수 있기 때문에 DEMO 용도로 사용하는게 좋습니다.\n",
    "\n",
    "---"
   ],
   "metadata": {
    "collapsed": false,
    "pycharm": {
     "name": "#%% md\n"
    },
    "id": "zzWGYtNAmOHb"
   }
  },
  {
   "cell_type": "markdown",
   "source": [
    "## 필요 파일 설치\n",
    "\n",
    "서버를 구동하기 위해 필요한 기본 패키지를 Colab에 설치합니다."
   ],
   "metadata": {
    "collapsed": false,
    "pycharm": {
     "name": "#%% md\n"
    },
    "id": "RbuVpcB9mOHg"
   }
  },
  {
   "cell_type": "code",
   "execution_count": 1,
   "outputs": [
    {
     "output_type": "stream",
     "name": "stdout",
     "text": [
      "Looking in indexes: https://pypi.org/simple, https://us-python.pkg.dev/colab-wheels/public/simple/\n",
      "Requirement already satisfied: Flask in /usr/local/lib/python3.7/dist-packages (1.1.4)\n",
      "Requirement already satisfied: Jinja2<3.0,>=2.10.1 in /usr/local/lib/python3.7/dist-packages (from Flask) (2.11.3)\n",
      "Requirement already satisfied: click<8.0,>=5.1 in /usr/local/lib/python3.7/dist-packages (from Flask) (7.1.2)\n",
      "Requirement already satisfied: itsdangerous<2.0,>=0.24 in /usr/local/lib/python3.7/dist-packages (from Flask) (1.1.0)\n",
      "Requirement already satisfied: Werkzeug<2.0,>=0.15 in /usr/local/lib/python3.7/dist-packages (from Flask) (1.0.1)\n",
      "Requirement already satisfied: MarkupSafe>=0.23 in /usr/local/lib/python3.7/dist-packages (from Jinja2<3.0,>=2.10.1->Flask) (2.0.1)\n",
      "Looking in indexes: https://pypi.org/simple, https://us-python.pkg.dev/colab-wheels/public/simple/\n",
      "Collecting flask-ngrok\n",
      "  Downloading flask_ngrok-0.0.25-py3-none-any.whl (3.1 kB)\n",
      "Requirement already satisfied: Flask>=0.8 in /usr/local/lib/python3.7/dist-packages (from flask-ngrok) (1.1.4)\n",
      "Requirement already satisfied: requests in /usr/local/lib/python3.7/dist-packages (from flask-ngrok) (2.23.0)\n",
      "Requirement already satisfied: itsdangerous<2.0,>=0.24 in /usr/local/lib/python3.7/dist-packages (from Flask>=0.8->flask-ngrok) (1.1.0)\n",
      "Requirement already satisfied: Jinja2<3.0,>=2.10.1 in /usr/local/lib/python3.7/dist-packages (from Flask>=0.8->flask-ngrok) (2.11.3)\n",
      "Requirement already satisfied: Werkzeug<2.0,>=0.15 in /usr/local/lib/python3.7/dist-packages (from Flask>=0.8->flask-ngrok) (1.0.1)\n",
      "Requirement already satisfied: click<8.0,>=5.1 in /usr/local/lib/python3.7/dist-packages (from Flask>=0.8->flask-ngrok) (7.1.2)\n",
      "Requirement already satisfied: MarkupSafe>=0.23 in /usr/local/lib/python3.7/dist-packages (from Jinja2<3.0,>=2.10.1->Flask>=0.8->flask-ngrok) (2.0.1)\n",
      "Requirement already satisfied: urllib3!=1.25.0,!=1.25.1,<1.26,>=1.21.1 in /usr/local/lib/python3.7/dist-packages (from requests->flask-ngrok) (1.24.3)\n",
      "Requirement already satisfied: certifi>=2017.4.17 in /usr/local/lib/python3.7/dist-packages (from requests->flask-ngrok) (2022.6.15)\n",
      "Requirement already satisfied: chardet<4,>=3.0.2 in /usr/local/lib/python3.7/dist-packages (from requests->flask-ngrok) (3.0.4)\n",
      "Requirement already satisfied: idna<3,>=2.5 in /usr/local/lib/python3.7/dist-packages (from requests->flask-ngrok) (2.10)\n",
      "Installing collected packages: flask-ngrok\n",
      "Successfully installed flask-ngrok-0.0.25\n",
      "Looking in indexes: https://pypi.org/simple, https://us-python.pkg.dev/colab-wheels/public/simple/\n",
      "Collecting flask-restx\n",
      "  Downloading flask_restx-0.5.1-py2.py3-none-any.whl (5.3 MB)\n",
      "\u001B[K     |████████████████████████████████| 5.3 MB 24.1 MB/s \n",
      "\u001B[?25hRequirement already satisfied: Flask!=2.0.0,>=0.8 in /usr/local/lib/python3.7/dist-packages (from flask-restx) (1.1.4)\n",
      "Requirement already satisfied: six>=1.3.0 in /usr/local/lib/python3.7/dist-packages (from flask-restx) (1.15.0)\n",
      "Requirement already satisfied: werkzeug!=2.0.0 in /usr/local/lib/python3.7/dist-packages (from flask-restx) (1.0.1)\n",
      "Collecting aniso8601>=0.82\n",
      "  Downloading aniso8601-9.0.1-py2.py3-none-any.whl (52 kB)\n",
      "\u001B[K     |████████████████████████████████| 52 kB 1.7 MB/s \n",
      "\u001B[?25hRequirement already satisfied: pytz in /usr/local/lib/python3.7/dist-packages (from flask-restx) (2022.2.1)\n",
      "Requirement already satisfied: jsonschema in /usr/local/lib/python3.7/dist-packages (from flask-restx) (4.3.3)\n",
      "Requirement already satisfied: click<8.0,>=5.1 in /usr/local/lib/python3.7/dist-packages (from Flask!=2.0.0,>=0.8->flask-restx) (7.1.2)\n",
      "Requirement already satisfied: Jinja2<3.0,>=2.10.1 in /usr/local/lib/python3.7/dist-packages (from Flask!=2.0.0,>=0.8->flask-restx) (2.11.3)\n",
      "Requirement already satisfied: itsdangerous<2.0,>=0.24 in /usr/local/lib/python3.7/dist-packages (from Flask!=2.0.0,>=0.8->flask-restx) (1.1.0)\n",
      "Requirement already satisfied: MarkupSafe>=0.23 in /usr/local/lib/python3.7/dist-packages (from Jinja2<3.0,>=2.10.1->Flask!=2.0.0,>=0.8->flask-restx) (2.0.1)\n",
      "Requirement already satisfied: typing-extensions in /usr/local/lib/python3.7/dist-packages (from jsonschema->flask-restx) (4.1.1)\n",
      "Requirement already satisfied: importlib-resources>=1.4.0 in /usr/local/lib/python3.7/dist-packages (from jsonschema->flask-restx) (5.9.0)\n",
      "Requirement already satisfied: attrs>=17.4.0 in /usr/local/lib/python3.7/dist-packages (from jsonschema->flask-restx) (22.1.0)\n",
      "Requirement already satisfied: importlib-metadata in /usr/local/lib/python3.7/dist-packages (from jsonschema->flask-restx) (4.12.0)\n",
      "Requirement already satisfied: pyrsistent!=0.17.0,!=0.17.1,!=0.17.2,>=0.14.0 in /usr/local/lib/python3.7/dist-packages (from jsonschema->flask-restx) (0.18.1)\n",
      "Requirement already satisfied: zipp>=3.1.0 in /usr/local/lib/python3.7/dist-packages (from importlib-resources>=1.4.0->jsonschema->flask-restx) (3.8.1)\n",
      "Installing collected packages: aniso8601, flask-restx\n",
      "Successfully installed aniso8601-9.0.1 flask-restx-0.5.1\n"
     ]
    }
   ],
   "source": [
    "!pip install Flask\n",
    "!pip install flask-ngrok\n",
    "!pip install flask-restx"
   ],
   "metadata": {
    "pycharm": {
     "name": "#%%\n"
    },
    "colab": {
     "base_uri": "https://localhost:8080/"
    },
    "id": "sKwl4JBWmOHg",
    "outputId": "ced6a825-ce45-44f9-c2e3-7aa49372222c"
   }
  },
  {
   "cell_type": "markdown",
   "source": [
    "## 패키지 임포트"
   ],
   "metadata": {
    "collapsed": false,
    "pycharm": {
     "name": "#%% md\n"
    },
    "id": "FFwjRvHumOHh"
   }
  },
  {
   "cell_type": "code",
   "execution_count": null,
   "outputs": [],
   "source": [
    "import os\n",
    "import random\n",
    "import base64\n",
    "from io import BytesIO\n",
    "from threading import Thread\n",
    "\n",
    "import numpy\n",
    "\n",
    "from flask import Flask, jsonify\n",
    "from flask_restx import Api, Resource\n",
    "from flask_ngrok import run_with_ngrok\n",
    "from tqdm import tqdm\n",
    "from PIL import Image"
   ],
   "metadata": {
    "collapsed": false,
    "pycharm": {
     "name": "#%%\n"
    }
   }
  },
  {
   "cell_type": "markdown",
   "source": [
    "## Flask App 생성\n",
    "\n",
    "Flask App을 생성하고 초기화합니다.\n",
    "\n",
    "*참고로 run_with_ngrok 은 ngrok 으로 외부에서 접근하게 하기위한 목적으로 필요합니다.*"
   ],
   "metadata": {
    "collapsed": false,
    "pycharm": {
     "name": "#%% md\n"
    }
   }
  },
  {
   "cell_type": "code",
   "execution_count": null,
   "outputs": [],
   "source": [
    "app = Flask(__name__)\n",
    "api = Api(app)\n",
    "run_with_ngrok(app)"
   ],
   "metadata": {
    "collapsed": false,
    "pycharm": {
     "name": "#%%\n"
    }
   }
  },
  {
   "cell_type": "markdown",
   "source": [
    "## Google 계정 연동\n",
    "Google 계정을 연동해서 Google-Drive 를 연결합니다.\n",
    "\n",
    "Google-Drive 는 마치 서버처럼 사용됩니다."
   ],
   "metadata": {
    "collapsed": false,
    "pycharm": {
     "name": "#%% md\n"
    }
   }
  },
  {
   "cell_type": "code",
   "execution_count": null,
   "outputs": [],
   "source": [
    "from google.colab import drive\n",
    "drive.mount('/content/drive')"
   ],
   "metadata": {
    "collapsed": false,
    "pycharm": {
     "name": "#%%\n"
    }
   }
  },
  {
   "cell_type": "markdown",
   "source": [
    "## Image 포장하기\n",
    "몇 개의 Random 한 Image 들을 불러와서 REST API 를 사용해서 보내는 함수입니다.\n",
    "참고로 Google Drive 내에 이미지를 저장하는 서버처럼 사용할 위치는 아래 ROOT_DIR에 입력하면 된다."
   ],
   "metadata": {
    "collapsed": false,
    "pycharm": {
     "name": "#%% md\n"
    }
   }
  },
  {
   "cell_type": "code",
   "execution_count": null,
   "outputs": [],
   "source": [
    "ROOT_DIR = '/content/drive/MyDrive/MetaArtServer'\n",
    "for root, _, files in os.walk(ROOT_DIR):\n",
    "  for f in files:\n",
    "    print(os.path.join(root, f))"
   ],
   "metadata": {
    "collapsed": false,
    "pycharm": {
     "name": "#%%\n"
    }
   }
  },
  {
   "cell_type": "code",
   "execution_count": null,
   "outputs": [],
   "source": [
    "IMG_FORMAT = ['.jpg', '.bmp', '.png']\n",
    "\n",
    "def get_images(count:int, path_=''):\n",
    "    try:\n",
    "        # 디렉토리 내에서 count 만큼의 이미지를 랜덤하게 가져옴\n",
    "        img_path = os.path.join(ROOT_DIR, path_)\n",
    "        imgs = []\n",
    "        for root, _, files in os.walk(img_path):\n",
    "          imgs += [os.path.join(root, f) for f in files \\\n",
    "                   if os.path.splitext(f)[-1] in IMG_FORMAT]\n",
    "        if count > len(imgs):\n",
    "          count = len(imgs)\n",
    "        sample_imgs = random.sample(imgs, count)\n",
    "        print(f'Sampling the {count} images')\n",
    "        # 응답 저장\n",
    "        response = []\n",
    "        for i, im_path in tqdm(enumerate(sample_imgs), desc='wrapping images'):\n",
    "            img = Image.open(im_path)\n",
    "            buffered = BytesIO()\n",
    "            img.save(buffered, format=\"JPEG\")\n",
    "            img_str = base64.b64encode(buffered.getvalue()).decode('utf-8')\n",
    "            response.append(img_str)\n",
    "        # Logging\n",
    "        for i, img_str in enumerate(response):\n",
    "            print(f'send({i}) => {img_str}')\n",
    "        return response\n",
    "    except Exception as e:\n",
    "        print('Error occur in get images!\\n', e)\n",
    "        return {'Error': e}, 500"
   ],
   "metadata": {
    "collapsed": false,
    "pycharm": {
     "name": "#%%\n"
    }
   }
  },
  {
   "cell_type": "markdown",
   "source": [
    "## Flask 블루 프린트 구성\n",
    "Image 를 Flask와 REST로 보낼 수 있는 router를 구성합니다."
   ],
   "metadata": {
    "collapsed": false,
    "pycharm": {
     "name": "#%% md\n"
    }
   }
  },
  {
   "cell_type": "code",
   "execution_count": null,
   "outputs": [],
   "source": [
    "@api.route('/images/<int:num>')\n",
    "class images(Resource):\n",
    "    def get(self, num):\n",
    "        return get_images(count=num)\n",
    "\n",
    "@api.route('/healthz')\n",
    "class health(Resource):\n",
    "    def get(self):\n",
    "        return 'return_health', 200"
   ],
   "metadata": {
    "collapsed": false,
    "pycharm": {
     "name": "#%%\n"
    }
   }
  },
  {
   "cell_type": "markdown",
   "source": [
    "## Server 실행\n",
    "Flask 명령으로 서버를 실행합니다."
   ],
   "metadata": {
    "collapsed": false,
    "pycharm": {
     "name": "#%% md\n"
    }
   }
  },
  {
   "cell_type": "code",
   "execution_count": null,
   "outputs": [],
   "source": [
    "server = Thread(target=app.run)\n",
    "server.start()"
   ],
   "metadata": {
    "collapsed": false,
    "pycharm": {
     "name": "#%%\n"
    }
   }
  },
  {
   "cell_type": "markdown",
   "source": [
    "------\n",
    "# Client 구성\n",
    "Colab 내 Test 를 위해 Client 를 구성합니다. Client 로 먼저 host 주소에 health 체크 명령을 보냅니다."
   ],
   "metadata": {
    "collapsed": false,
    "pycharm": {
     "name": "#%% md\n"
    }
   }
  },
  {
   "cell_type": "code",
   "execution_count": null,
   "outputs": [],
   "source": [
    "import requests\n",
    "\n",
    "HOST_SERVER = 'http://127.0.0.1:5000'\n",
    "res = requests.get(HOST_SERVER + '/healthz')\n",
    "print(res.content)"
   ],
   "metadata": {
    "collapsed": false,
    "pycharm": {
     "name": "#%%\n"
    }
   }
  },
  {
   "cell_type": "markdown",
   "source": [
    "## Client -> Server 요청\n",
    "\n",
    "REST API를 활용해 Image를 가져옵니다."
   ],
   "metadata": {
    "collapsed": false,
    "pycharm": {
     "name": "#%% md\n"
    }
   }
  },
  {
   "cell_type": "code",
   "execution_count": null,
   "outputs": [],
   "source": [
    "res = requests.get(HOST_SERVER + '/images/10')"
   ],
   "metadata": {
    "collapsed": false,
    "pycharm": {
     "name": "#%%\n"
    }
   }
  },
  {
   "cell_type": "code",
   "execution_count": null,
   "outputs": [],
   "source": [
    "print(res.content)"
   ],
   "metadata": {
    "collapsed": false,
    "pycharm": {
     "name": "#%%\n"
    }
   }
  },
  {
   "cell_type": "markdown",
   "source": [
    "## 디코딩\n",
    "Base64 로 인코딩된 결과값을 디코딩해서 출력해봅니다."
   ],
   "metadata": {
    "collapsed": false,
    "pycharm": {
     "name": "#%% md\n"
    }
   }
  },
  {
   "cell_type": "code",
   "execution_count": null,
   "outputs": [],
   "source": [
    "img_encodes = res.json()\n",
    "print(img_encodes)"
   ],
   "metadata": {
    "collapsed": false,
    "pycharm": {
     "name": "#%%\n"
    }
   }
  }
 ],
 "metadata": {
  "kernelspec": {
   "display_name": "Python 3",
   "language": "python",
   "name": "python3"
  },
  "language_info": {
   "codemirror_mode": {
    "name": "ipython",
    "version": 2
   },
   "file_extension": ".py",
   "mimetype": "text/x-python",
   "name": "python",
   "nbconvert_exporter": "python",
   "pygments_lexer": "ipython2",
   "version": "2.7.6"
  },
  "colab": {
   "provenance": [],
   "collapsed_sections": []
  }
 },
 "nbformat": 4,
 "nbformat_minor": 0
}