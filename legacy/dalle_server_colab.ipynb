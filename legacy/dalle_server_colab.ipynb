{
 "cells": [
  {
   "cell_type": "markdown",
   "source": [
    "# DALLE-Server를 Colab에서 구동하기.\n",
    "\n",
    "이용하기 쉬운 외부 가상환경인 Colab에서 DALLE-Server를 구동합니다.\n",
    "Colab 을 상시 서버로 사용하기는 힘들기 때문에 단순히 Test 용도로 쓰는게 좋습니다."
   ],
   "metadata": {
    "collapsed": false,
    "pycharm": {
     "name": "#%% md\n"
    },
    "id": "etqRtA7Kh1sH"
   }
  },
  {
   "cell_type": "markdown",
   "source": [
    "## 필요 파일 설치\n",
    "\n",
    "서버를 구동하기 위해 필요한 기본 패키지를 Colab 환경에 설치합니다.\n",
    "의존성 및 안정적인 구동을 고려해 원작자가 추천하는 기본 패키지로 재설치하겠습니다."
   ],
   "metadata": {
    "collapsed": false,
    "pycharm": {
     "name": "#%% md\n"
    },
    "id": "89Pau-DIh1sK"
   }
  },
  {
   "cell_type": "code",
   "execution_count": 1,
   "outputs": [
    {
     "output_type": "stream",
     "name": "stdout",
     "text": [
      "Looking in indexes: https://pypi.org/simple, https://us-python.pkg.dev/colab-wheels/public/simple/\n",
      "Requirement already satisfied: Flask==1.1.2 in /usr/local/lib/python3.7/dist-packages (1.1.2)\n",
      "Requirement already satisfied: Werkzeug>=0.15 in /usr/local/lib/python3.7/dist-packages (from Flask==1.1.2) (1.0.1)\n",
      "Requirement already satisfied: click>=5.1 in /usr/local/lib/python3.7/dist-packages (from Flask==1.1.2) (7.1.2)\n",
      "Requirement already satisfied: Jinja2>=2.10.1 in /usr/local/lib/python3.7/dist-packages (from Flask==1.1.2) (2.11.3)\n",
      "Requirement already satisfied: itsdangerous>=0.24 in /usr/local/lib/python3.7/dist-packages (from Flask==1.1.2) (1.1.0)\n",
      "Requirement already satisfied: MarkupSafe>=0.23 in /usr/local/lib/python3.7/dist-packages (from Jinja2>=2.10.1->Flask==1.1.2) (2.0.1)\n",
      "Looking in indexes: https://pypi.org/simple, https://us-python.pkg.dev/colab-wheels/public/simple/\n",
      "Requirement already satisfied: Flask-Cors==3.0.9 in /usr/local/lib/python3.7/dist-packages (3.0.9)\n",
      "Requirement already satisfied: Six in /usr/local/lib/python3.7/dist-packages (from Flask-Cors==3.0.9) (1.15.0)\n",
      "Requirement already satisfied: Flask>=0.9 in /usr/local/lib/python3.7/dist-packages (from Flask-Cors==3.0.9) (1.1.2)\n",
      "Requirement already satisfied: click>=5.1 in /usr/local/lib/python3.7/dist-packages (from Flask>=0.9->Flask-Cors==3.0.9) (7.1.2)\n",
      "Requirement already satisfied: Werkzeug>=0.15 in /usr/local/lib/python3.7/dist-packages (from Flask>=0.9->Flask-Cors==3.0.9) (1.0.1)\n",
      "Requirement already satisfied: itsdangerous>=0.24 in /usr/local/lib/python3.7/dist-packages (from Flask>=0.9->Flask-Cors==3.0.9) (1.1.0)\n",
      "Requirement already satisfied: Jinja2>=2.10.1 in /usr/local/lib/python3.7/dist-packages (from Flask>=0.9->Flask-Cors==3.0.9) (2.11.3)\n",
      "Requirement already satisfied: MarkupSafe>=0.23 in /usr/local/lib/python3.7/dist-packages (from Jinja2>=2.10.1->Flask>=0.9->Flask-Cors==3.0.9) (2.0.1)\n",
      "Looking in indexes: https://pypi.org/simple, https://us-python.pkg.dev/colab-wheels/public/simple/\n",
      "Requirement already satisfied: Flask-RESTful==0.3.8 in /usr/local/lib/python3.7/dist-packages (0.3.8)\n",
      "Requirement already satisfied: aniso8601>=0.82 in /usr/local/lib/python3.7/dist-packages (from Flask-RESTful==0.3.8) (9.0.1)\n",
      "Requirement already satisfied: pytz in /usr/local/lib/python3.7/dist-packages (from Flask-RESTful==0.3.8) (2022.1)\n",
      "Requirement already satisfied: Flask>=0.8 in /usr/local/lib/python3.7/dist-packages (from Flask-RESTful==0.3.8) (1.1.2)\n",
      "Requirement already satisfied: six>=1.3.0 in /usr/local/lib/python3.7/dist-packages (from Flask-RESTful==0.3.8) (1.15.0)\n",
      "Requirement already satisfied: Werkzeug>=0.15 in /usr/local/lib/python3.7/dist-packages (from Flask>=0.8->Flask-RESTful==0.3.8) (1.0.1)\n",
      "Requirement already satisfied: Jinja2>=2.10.1 in /usr/local/lib/python3.7/dist-packages (from Flask>=0.8->Flask-RESTful==0.3.8) (2.11.3)\n",
      "Requirement already satisfied: click>=5.1 in /usr/local/lib/python3.7/dist-packages (from Flask>=0.8->Flask-RESTful==0.3.8) (7.1.2)\n",
      "Requirement already satisfied: itsdangerous>=0.24 in /usr/local/lib/python3.7/dist-packages (from Flask>=0.8->Flask-RESTful==0.3.8) (1.1.0)\n",
      "Requirement already satisfied: MarkupSafe>=0.23 in /usr/local/lib/python3.7/dist-packages (from Jinja2>=2.10.1->Flask>=0.8->Flask-RESTful==0.3.8) (2.0.1)\n",
      "Looking in indexes: https://pypi.org/simple, https://us-python.pkg.dev/colab-wheels/public/simple/\n",
      "Requirement already satisfied: dalle-pytorch==0.14.3 in /usr/local/lib/python3.7/dist-packages (0.14.3)\n",
      "Requirement already satisfied: einops>=0.3 in /usr/local/lib/python3.7/dist-packages (from dalle-pytorch==0.14.3) (0.4.1)\n",
      "Requirement already satisfied: DALL-E in /usr/local/lib/python3.7/dist-packages (from dalle-pytorch==0.14.3) (0.1)\n",
      "Requirement already satisfied: youtokentome in /usr/local/lib/python3.7/dist-packages (from dalle-pytorch==0.14.3) (1.0.6)\n",
      "Requirement already satisfied: axial-positional-embedding in /usr/local/lib/python3.7/dist-packages (from dalle-pytorch==0.14.3) (0.2.1)\n",
      "Requirement already satisfied: taming-transformers-rom1504 in /usr/local/lib/python3.7/dist-packages (from dalle-pytorch==0.14.3) (0.0.6)\n",
      "Requirement already satisfied: g-mlp-pytorch in /usr/local/lib/python3.7/dist-packages (from dalle-pytorch==0.14.3) (0.1.5)\n",
      "Requirement already satisfied: pillow in /usr/local/lib/python3.7/dist-packages (from dalle-pytorch==0.14.3) (7.1.2)\n",
      "Requirement already satisfied: tokenizers in /usr/local/lib/python3.7/dist-packages (from dalle-pytorch==0.14.3) (0.12.1)\n",
      "Requirement already satisfied: transformers in /usr/local/lib/python3.7/dist-packages (from dalle-pytorch==0.14.3) (4.20.1)\n",
      "Requirement already satisfied: tqdm in /usr/local/lib/python3.7/dist-packages (from dalle-pytorch==0.14.3) (4.64.0)\n",
      "Requirement already satisfied: torch>=1.6 in /usr/local/lib/python3.7/dist-packages (from dalle-pytorch==0.14.3) (1.11.0+cu113)\n",
      "Requirement already satisfied: ftfy in /usr/local/lib/python3.7/dist-packages (from dalle-pytorch==0.14.3) (6.1.1)\n",
      "Requirement already satisfied: WebDataset in /usr/local/lib/python3.7/dist-packages (from dalle-pytorch==0.14.3) (0.2.5)\n",
      "Requirement already satisfied: regex in /usr/local/lib/python3.7/dist-packages (from dalle-pytorch==0.14.3) (2022.6.2)\n",
      "Requirement already satisfied: torchvision in /usr/local/lib/python3.7/dist-packages (from dalle-pytorch==0.14.3) (0.12.0+cu113)\n",
      "Requirement already satisfied: typing-extensions in /usr/local/lib/python3.7/dist-packages (from torch>=1.6->dalle-pytorch==0.14.3) (4.1.1)\n",
      "Requirement already satisfied: mypy in /usr/local/lib/python3.7/dist-packages (from DALL-E->dalle-pytorch==0.14.3) (0.961)\n",
      "Requirement already satisfied: requests in /usr/local/lib/python3.7/dist-packages (from DALL-E->dalle-pytorch==0.14.3) (2.23.0)\n",
      "Requirement already satisfied: pytest in /usr/local/lib/python3.7/dist-packages (from DALL-E->dalle-pytorch==0.14.3) (3.6.4)\n",
      "Requirement already satisfied: blobfile in /usr/local/lib/python3.7/dist-packages (from DALL-E->dalle-pytorch==0.14.3) (1.3.1)\n",
      "Requirement already satisfied: numpy in /usr/local/lib/python3.7/dist-packages (from DALL-E->dalle-pytorch==0.14.3) (1.21.6)\n",
      "Requirement already satisfied: urllib3~=1.25 in /usr/local/lib/python3.7/dist-packages (from blobfile->DALL-E->dalle-pytorch==0.14.3) (1.25.11)\n",
      "Requirement already satisfied: filelock~=3.0 in /usr/local/lib/python3.7/dist-packages (from blobfile->DALL-E->dalle-pytorch==0.14.3) (3.7.1)\n",
      "Requirement already satisfied: pycryptodomex~=3.8 in /usr/local/lib/python3.7/dist-packages (from blobfile->DALL-E->dalle-pytorch==0.14.3) (3.15.0)\n",
      "Requirement already satisfied: xmltodict~=0.12.0 in /usr/local/lib/python3.7/dist-packages (from blobfile->DALL-E->dalle-pytorch==0.14.3) (0.12.0)\n",
      "Requirement already satisfied: wcwidth>=0.2.5 in /usr/local/lib/python3.7/dist-packages (from ftfy->dalle-pytorch==0.14.3) (0.2.5)\n",
      "Requirement already satisfied: tomli>=1.1.0 in /usr/local/lib/python3.7/dist-packages (from mypy->DALL-E->dalle-pytorch==0.14.3) (2.0.1)\n",
      "Requirement already satisfied: typed-ast<2,>=1.4.0 in /usr/local/lib/python3.7/dist-packages (from mypy->DALL-E->dalle-pytorch==0.14.3) (1.5.4)\n",
      "Requirement already satisfied: mypy-extensions>=0.4.3 in /usr/local/lib/python3.7/dist-packages (from mypy->DALL-E->dalle-pytorch==0.14.3) (0.4.3)\n",
      "Requirement already satisfied: py>=1.5.0 in /usr/local/lib/python3.7/dist-packages (from pytest->DALL-E->dalle-pytorch==0.14.3) (1.11.0)\n",
      "Requirement already satisfied: more-itertools>=4.0.0 in /usr/local/lib/python3.7/dist-packages (from pytest->DALL-E->dalle-pytorch==0.14.3) (8.13.0)\n",
      "Requirement already satisfied: atomicwrites>=1.0 in /usr/local/lib/python3.7/dist-packages (from pytest->DALL-E->dalle-pytorch==0.14.3) (1.4.0)\n",
      "Requirement already satisfied: pluggy<0.8,>=0.5 in /usr/local/lib/python3.7/dist-packages (from pytest->DALL-E->dalle-pytorch==0.14.3) (0.7.1)\n",
      "Requirement already satisfied: six>=1.10.0 in /usr/local/lib/python3.7/dist-packages (from pytest->DALL-E->dalle-pytorch==0.14.3) (1.15.0)\n",
      "Requirement already satisfied: setuptools in /usr/local/lib/python3.7/dist-packages (from pytest->DALL-E->dalle-pytorch==0.14.3) (57.4.0)\n",
      "Requirement already satisfied: attrs>=17.4.0 in /usr/local/lib/python3.7/dist-packages (from pytest->DALL-E->dalle-pytorch==0.14.3) (21.4.0)\n",
      "Requirement already satisfied: certifi>=2017.4.17 in /usr/local/lib/python3.7/dist-packages (from requests->DALL-E->dalle-pytorch==0.14.3) (2022.6.15)\n",
      "Requirement already satisfied: chardet<4,>=3.0.2 in /usr/local/lib/python3.7/dist-packages (from requests->DALL-E->dalle-pytorch==0.14.3) (3.0.4)\n",
      "Requirement already satisfied: idna<3,>=2.5 in /usr/local/lib/python3.7/dist-packages (from requests->DALL-E->dalle-pytorch==0.14.3) (2.10)\n",
      "Requirement already satisfied: omegaconf>=2.0.0 in /usr/local/lib/python3.7/dist-packages (from taming-transformers-rom1504->dalle-pytorch==0.14.3) (2.2.2)\n",
      "Requirement already satisfied: pytorch-lightning>=1.0.8 in /usr/local/lib/python3.7/dist-packages (from taming-transformers-rom1504->dalle-pytorch==0.14.3) (1.6.4)\n",
      "Requirement already satisfied: antlr4-python3-runtime==4.9.* in /usr/local/lib/python3.7/dist-packages (from omegaconf>=2.0.0->taming-transformers-rom1504->dalle-pytorch==0.14.3) (4.9.3)\n",
      "Requirement already satisfied: PyYAML>=5.1.0 in /usr/local/lib/python3.7/dist-packages (from omegaconf>=2.0.0->taming-transformers-rom1504->dalle-pytorch==0.14.3) (6.0)\n",
      "Requirement already satisfied: protobuf<=3.20.1 in /usr/local/lib/python3.7/dist-packages (from pytorch-lightning>=1.0.8->taming-transformers-rom1504->dalle-pytorch==0.14.3) (3.17.3)\n",
      "Requirement already satisfied: pyDeprecate>=0.3.1 in /usr/local/lib/python3.7/dist-packages (from pytorch-lightning>=1.0.8->taming-transformers-rom1504->dalle-pytorch==0.14.3) (0.3.2)\n",
      "Requirement already satisfied: packaging>=17.0 in /usr/local/lib/python3.7/dist-packages (from pytorch-lightning>=1.0.8->taming-transformers-rom1504->dalle-pytorch==0.14.3) (21.3)\n",
      "Requirement already satisfied: torchmetrics>=0.4.1 in /usr/local/lib/python3.7/dist-packages (from pytorch-lightning>=1.0.8->taming-transformers-rom1504->dalle-pytorch==0.14.3) (0.9.2)\n",
      "Requirement already satisfied: fsspec[http]!=2021.06.0,>=2021.05.0 in /usr/local/lib/python3.7/dist-packages (from pytorch-lightning>=1.0.8->taming-transformers-rom1504->dalle-pytorch==0.14.3) (2022.5.0)\n",
      "Requirement already satisfied: tensorboard>=2.2.0 in /usr/local/lib/python3.7/dist-packages (from pytorch-lightning>=1.0.8->taming-transformers-rom1504->dalle-pytorch==0.14.3) (2.8.0)\n",
      "Requirement already satisfied: aiohttp in /usr/local/lib/python3.7/dist-packages (from fsspec[http]!=2021.06.0,>=2021.05.0->pytorch-lightning>=1.0.8->taming-transformers-rom1504->dalle-pytorch==0.14.3) (3.8.1)\n",
      "Requirement already satisfied: pyparsing!=3.0.5,>=2.0.2 in /usr/local/lib/python3.7/dist-packages (from packaging>=17.0->pytorch-lightning>=1.0.8->taming-transformers-rom1504->dalle-pytorch==0.14.3) (3.0.9)\n",
      "Requirement already satisfied: markdown>=2.6.8 in /usr/local/lib/python3.7/dist-packages (from tensorboard>=2.2.0->pytorch-lightning>=1.0.8->taming-transformers-rom1504->dalle-pytorch==0.14.3) (3.3.7)\n",
      "Requirement already satisfied: grpcio>=1.24.3 in /usr/local/lib/python3.7/dist-packages (from tensorboard>=2.2.0->pytorch-lightning>=1.0.8->taming-transformers-rom1504->dalle-pytorch==0.14.3) (1.46.3)\n",
      "Requirement already satisfied: google-auth<3,>=1.6.3 in /usr/local/lib/python3.7/dist-packages (from tensorboard>=2.2.0->pytorch-lightning>=1.0.8->taming-transformers-rom1504->dalle-pytorch==0.14.3) (1.35.0)\n",
      "Requirement already satisfied: tensorboard-plugin-wit>=1.6.0 in /usr/local/lib/python3.7/dist-packages (from tensorboard>=2.2.0->pytorch-lightning>=1.0.8->taming-transformers-rom1504->dalle-pytorch==0.14.3) (1.8.1)\n",
      "Requirement already satisfied: google-auth-oauthlib<0.5,>=0.4.1 in /usr/local/lib/python3.7/dist-packages (from tensorboard>=2.2.0->pytorch-lightning>=1.0.8->taming-transformers-rom1504->dalle-pytorch==0.14.3) (0.4.6)\n",
      "Requirement already satisfied: tensorboard-data-server<0.7.0,>=0.6.0 in /usr/local/lib/python3.7/dist-packages (from tensorboard>=2.2.0->pytorch-lightning>=1.0.8->taming-transformers-rom1504->dalle-pytorch==0.14.3) (0.6.1)\n",
      "Requirement already satisfied: werkzeug>=0.11.15 in /usr/local/lib/python3.7/dist-packages (from tensorboard>=2.2.0->pytorch-lightning>=1.0.8->taming-transformers-rom1504->dalle-pytorch==0.14.3) (1.0.1)\n",
      "Requirement already satisfied: wheel>=0.26 in /usr/local/lib/python3.7/dist-packages (from tensorboard>=2.2.0->pytorch-lightning>=1.0.8->taming-transformers-rom1504->dalle-pytorch==0.14.3) (0.37.1)\n",
      "Requirement already satisfied: absl-py>=0.4 in /usr/local/lib/python3.7/dist-packages (from tensorboard>=2.2.0->pytorch-lightning>=1.0.8->taming-transformers-rom1504->dalle-pytorch==0.14.3) (1.1.0)\n",
      "Requirement already satisfied: pyasn1-modules>=0.2.1 in /usr/local/lib/python3.7/dist-packages (from google-auth<3,>=1.6.3->tensorboard>=2.2.0->pytorch-lightning>=1.0.8->taming-transformers-rom1504->dalle-pytorch==0.14.3) (0.2.8)\n",
      "Requirement already satisfied: rsa<5,>=3.1.4 in /usr/local/lib/python3.7/dist-packages (from google-auth<3,>=1.6.3->tensorboard>=2.2.0->pytorch-lightning>=1.0.8->taming-transformers-rom1504->dalle-pytorch==0.14.3) (4.8)\n",
      "Requirement already satisfied: cachetools<5.0,>=2.0.0 in /usr/local/lib/python3.7/dist-packages (from google-auth<3,>=1.6.3->tensorboard>=2.2.0->pytorch-lightning>=1.0.8->taming-transformers-rom1504->dalle-pytorch==0.14.3) (4.2.4)\n",
      "Requirement already satisfied: requests-oauthlib>=0.7.0 in /usr/local/lib/python3.7/dist-packages (from google-auth-oauthlib<0.5,>=0.4.1->tensorboard>=2.2.0->pytorch-lightning>=1.0.8->taming-transformers-rom1504->dalle-pytorch==0.14.3) (1.3.1)\n",
      "Requirement already satisfied: importlib-metadata>=4.4 in /usr/local/lib/python3.7/dist-packages (from markdown>=2.6.8->tensorboard>=2.2.0->pytorch-lightning>=1.0.8->taming-transformers-rom1504->dalle-pytorch==0.14.3) (4.11.4)\n",
      "Requirement already satisfied: zipp>=0.5 in /usr/local/lib/python3.7/dist-packages (from importlib-metadata>=4.4->markdown>=2.6.8->tensorboard>=2.2.0->pytorch-lightning>=1.0.8->taming-transformers-rom1504->dalle-pytorch==0.14.3) (3.8.0)\n",
      "Requirement already satisfied: pyasn1<0.5.0,>=0.4.6 in /usr/local/lib/python3.7/dist-packages (from pyasn1-modules>=0.2.1->google-auth<3,>=1.6.3->tensorboard>=2.2.0->pytorch-lightning>=1.0.8->taming-transformers-rom1504->dalle-pytorch==0.14.3) (0.4.8)\n",
      "Requirement already satisfied: oauthlib>=3.0.0 in /usr/local/lib/python3.7/dist-packages (from requests-oauthlib>=0.7.0->google-auth-oauthlib<0.5,>=0.4.1->tensorboard>=2.2.0->pytorch-lightning>=1.0.8->taming-transformers-rom1504->dalle-pytorch==0.14.3) (3.2.0)\n",
      "Requirement already satisfied: yarl<2.0,>=1.0 in /usr/local/lib/python3.7/dist-packages (from aiohttp->fsspec[http]!=2021.06.0,>=2021.05.0->pytorch-lightning>=1.0.8->taming-transformers-rom1504->dalle-pytorch==0.14.3) (1.7.2)\n",
      "Requirement already satisfied: charset-normalizer<3.0,>=2.0 in /usr/local/lib/python3.7/dist-packages (from aiohttp->fsspec[http]!=2021.06.0,>=2021.05.0->pytorch-lightning>=1.0.8->taming-transformers-rom1504->dalle-pytorch==0.14.3) (2.0.12)\n",
      "Requirement already satisfied: async-timeout<5.0,>=4.0.0a3 in /usr/local/lib/python3.7/dist-packages (from aiohttp->fsspec[http]!=2021.06.0,>=2021.05.0->pytorch-lightning>=1.0.8->taming-transformers-rom1504->dalle-pytorch==0.14.3) (4.0.2)\n",
      "Requirement already satisfied: asynctest==0.13.0 in /usr/local/lib/python3.7/dist-packages (from aiohttp->fsspec[http]!=2021.06.0,>=2021.05.0->pytorch-lightning>=1.0.8->taming-transformers-rom1504->dalle-pytorch==0.14.3) (0.13.0)\n",
      "Requirement already satisfied: multidict<7.0,>=4.5 in /usr/local/lib/python3.7/dist-packages (from aiohttp->fsspec[http]!=2021.06.0,>=2021.05.0->pytorch-lightning>=1.0.8->taming-transformers-rom1504->dalle-pytorch==0.14.3) (6.0.2)\n",
      "Requirement already satisfied: aiosignal>=1.1.2 in /usr/local/lib/python3.7/dist-packages (from aiohttp->fsspec[http]!=2021.06.0,>=2021.05.0->pytorch-lightning>=1.0.8->taming-transformers-rom1504->dalle-pytorch==0.14.3) (1.2.0)\n",
      "Requirement already satisfied: frozenlist>=1.1.1 in /usr/local/lib/python3.7/dist-packages (from aiohttp->fsspec[http]!=2021.06.0,>=2021.05.0->pytorch-lightning>=1.0.8->taming-transformers-rom1504->dalle-pytorch==0.14.3) (1.3.0)\n",
      "Requirement already satisfied: huggingface-hub<1.0,>=0.1.0 in /usr/local/lib/python3.7/dist-packages (from transformers->dalle-pytorch==0.14.3) (0.8.1)\n",
      "Requirement already satisfied: braceexpand in /usr/local/lib/python3.7/dist-packages (from WebDataset->dalle-pytorch==0.14.3) (0.1.7)\n",
      "Requirement already satisfied: Click>=7.0 in /usr/local/lib/python3.7/dist-packages (from youtokentome->dalle-pytorch==0.14.3) (7.1.2)\n",
      "Looking in indexes: https://pypi.org/simple, https://us-python.pkg.dev/colab-wheels/public/simple/\n",
      "Requirement already satisfied: tqdm in /usr/local/lib/python3.7/dist-packages (4.64.0)\n",
      "Looking in indexes: https://pypi.org/simple, https://us-python.pkg.dev/colab-wheels/public/simple/\n",
      "Requirement already satisfied: deepspeed==0.4.2 in /usr/local/lib/python3.7/dist-packages (0.4.2)\n",
      "Requirement already satisfied: numpy in /usr/local/lib/python3.7/dist-packages (from deepspeed==0.4.2) (1.21.6)\n",
      "Requirement already satisfied: psutil in /usr/local/lib/python3.7/dist-packages (from deepspeed==0.4.2) (5.4.8)\n",
      "Requirement already satisfied: torch>=1.2 in /usr/local/lib/python3.7/dist-packages (from deepspeed==0.4.2) (1.11.0+cu113)\n",
      "Requirement already satisfied: triton in /usr/local/lib/python3.7/dist-packages (from deepspeed==0.4.2) (0.4.2)\n",
      "Requirement already satisfied: tqdm in /usr/local/lib/python3.7/dist-packages (from deepspeed==0.4.2) (4.64.0)\n",
      "Requirement already satisfied: ninja in /usr/local/lib/python3.7/dist-packages (from deepspeed==0.4.2) (1.10.2.3)\n",
      "Requirement already satisfied: packaging in /usr/local/lib/python3.7/dist-packages (from deepspeed==0.4.2) (21.3)\n",
      "Requirement already satisfied: tensorboardX==1.8 in /usr/local/lib/python3.7/dist-packages (from deepspeed==0.4.2) (1.8)\n",
      "Requirement already satisfied: protobuf>=3.2.0 in /usr/local/lib/python3.7/dist-packages (from tensorboardX==1.8->deepspeed==0.4.2) (3.17.3)\n",
      "Requirement already satisfied: six in /usr/local/lib/python3.7/dist-packages (from tensorboardX==1.8->deepspeed==0.4.2) (1.15.0)\n",
      "Requirement already satisfied: typing-extensions in /usr/local/lib/python3.7/dist-packages (from torch>=1.2->deepspeed==0.4.2) (4.1.1)\n",
      "Requirement already satisfied: pyparsing!=3.0.5,>=2.0.2 in /usr/local/lib/python3.7/dist-packages (from packaging->deepspeed==0.4.2) (3.0.9)\n",
      "Looking in indexes: https://pypi.org/simple, https://us-python.pkg.dev/colab-wheels/public/simple/\n",
      "Requirement already satisfied: triton==0.4.2 in /usr/local/lib/python3.7/dist-packages (0.4.2)\n",
      "Requirement already satisfied: numpy in /usr/local/lib/python3.7/dist-packages (from triton==0.4.2) (1.21.6)\n",
      "Requirement already satisfied: torch in /usr/local/lib/python3.7/dist-packages (from triton==0.4.2) (1.11.0+cu113)\n",
      "Requirement already satisfied: typing-extensions in /usr/local/lib/python3.7/dist-packages (from torch->triton==0.4.2) (4.1.1)\n"
     ]
    }
   ],
   "source": [
    "!pip install Flask==1.1.2\n",
    "!pip install Flask-Cors==3.0.9\n",
    "!pip install Flask-RESTful==0.3.8\n",
    "!pip install dalle-pytorch==0.14.3\n",
    "!pip install tqdm\n",
    "!pip install deepspeed==0.4.2\n",
    "!pip install triton==0.4.2"
   ],
   "metadata": {
    "pycharm": {
     "name": "#%%\n"
    },
    "colab": {
     "base_uri": "https://localhost:8080/"
    },
    "id": "3MPLTaoGh1sL",
    "outputId": "ce407ab0-900b-4f90-c1f1-d16abf538f32"
   }
  },
  {
   "cell_type": "markdown",
   "source": [
    "## 패키지 임포트"
   ],
   "metadata": {
    "collapsed": false,
    "pycharm": {
     "name": "#%% md\n"
    },
    "id": "aul79Gjvh1sM"
   }
  },
  {
   "cell_type": "code",
   "execution_count": 2,
   "outputs": [],
   "source": [
    "from flask import Flask, request, jsonify\n",
    "from tqdm import tqdm\n",
    "import numpy as np\n",
    "from queue import Queue, Empty\n",
    "from threading import Thread\n",
    "import time\n",
    "\n",
    "# torch\n",
    "\n",
    "import torch\n",
    "\n",
    "from einops import repeat\n",
    "\n",
    "# vision imports\n",
    "\n",
    "from PIL import Image\n",
    "\n",
    "# dalle related classes and utils\n",
    "\n",
    "from dalle_pytorch import VQGanVAE, DALLE\n",
    "from dalle_pytorch.tokenizer import tokenizer\n",
    "\n",
    "import base64\n",
    "from io import BytesIO"
   ],
   "metadata": {
    "pycharm": {
     "name": "#%%\n"
    },
    "id": "3daPtkOIh1sN"
   }
  },
  {
   "cell_type": "markdown",
   "source": [
    "## Flask App 생성\n",
    "\n",
    "Flask App을 생성하고 초기화합니다."
   ],
   "metadata": {
    "collapsed": false,
    "pycharm": {
     "name": "#%% md\n"
    },
    "id": "KqiJfDoQh1sN"
   }
  },
  {
   "cell_type": "code",
   "execution_count": 3,
   "outputs": [],
   "source": [
    "app = Flask(__name__)\n",
    "\n",
    "requests_queue = Queue()  # request queue.\n",
    "REQUEST_BATCH_SIZE = 4  # max request size.\n",
    "CHECK_INTERVAL = 0.1"
   ],
   "metadata": {
    "pycharm": {
     "name": "#%%\n"
    },
    "id": "4OEz0Uc9h1sO"
   }
  },
  {
   "cell_type": "markdown",
   "source": [
    "## Model 불러오기\n",
    "\n",
    "VQGAN 의 엔코더를 VAE로 불러옵니다."
   ],
   "metadata": {
    "collapsed": false,
    "pycharm": {
     "name": "#%% md\n"
    },
    "id": "nEDUc8RGh1sO"
   }
  },
  {
   "cell_type": "code",
   "execution_count": 4,
   "outputs": [
    {
     "output_type": "stream",
     "name": "stdout",
     "text": [
      "Working with z of shape (1, 256, 16, 16) = 65536 dimensions.\n",
      "loaded pretrained LPIPS loss from taming/modules/autoencoder/lpips/vgg.pth\n",
      "VQLPIPSWithDiscriminator running with hinge loss.\n",
      "Loaded VQGAN from /root/.cache/dalle/vqgan.1024.model.ckpt and /root/.cache/dalle/vqgan.1024.config.yml\n"
     ]
    }
   ],
   "source": [
    "# load model\n",
    "\n",
    "vae = VQGanVAE(None, None)"
   ],
   "metadata": {
    "pycharm": {
     "name": "#%%\n"
    },
    "colab": {
     "base_uri": "https://localhost:8080/"
    },
    "id": "Qc2nh0Sih1sP",
    "outputId": "af4edf2a-27b9-418c-e75c-8ef27562baa3"
   }
  },
  {
   "cell_type": "markdown",
   "source": [
    "## Checkpoint download\n",
    "\n",
    "Pretrained 된 값을 가져오기 위해 Checkpoint를 가져오고, 이를 불러옵니다.\n",
    "참고로 필요한 Checkpoint는 아래 위치에서 참고했습니다.\n",
    "\n",
    "- model checkpoint : https://github.com/robvanvolt/DALLE-models/tree/main/models/taming_transformer"
   ],
   "metadata": {
    "collapsed": false,
    "pycharm": {
     "name": "#%% md\n"
    },
    "id": "JBnOpgBYh1sP"
   }
  },
  {
   "cell_type": "code",
   "execution_count": 5,
   "outputs": [
    {
     "output_type": "stream",
     "name": "stdout",
     "text": [
      "--2022-07-01 16:22:46--  https://www.dropbox.com/s/8mmgnromwoilpfm/16L_64HD_8H_512I_128T_cc12m_cc3m_3E.pt\n",
      "Resolving www.dropbox.com (www.dropbox.com)... 162.125.71.18, 2620:100:6021:18::a27d:4112\n",
      "Connecting to www.dropbox.com (www.dropbox.com)|162.125.71.18|:443... connected.\n",
      "HTTP request sent, awaiting response... 301 Moved Permanently\n",
      "Location: /s/raw/8mmgnromwoilpfm/16L_64HD_8H_512I_128T_cc12m_cc3m_3E.pt [following]\n",
      "--2022-07-01 16:22:46--  https://www.dropbox.com/s/raw/8mmgnromwoilpfm/16L_64HD_8H_512I_128T_cc12m_cc3m_3E.pt\n",
      "Reusing existing connection to www.dropbox.com:443.\n",
      "HTTP request sent, awaiting response... 302 Found\n",
      "Location: https://uc82a66a98d30c6d20cd1becd837.dl.dropboxusercontent.com/cd/0/inline/BoTMzvSJy0HsNWjiI5NRAMOoFs9F3teEmOzgcIoocx3kvJAJ9yKhQKDtybg-PAQFYO2sYPTet2LPplJ9qp4MedNaobQXjjSXCoiwRehrGqLkU-lOb1Rr3_pIzIox9q8M6RHY-SQy7Q-NKTLR0nnM1q9P-QgeTxHACXA2nlXiow1rmA/file# [following]\n",
      "--2022-07-01 16:22:47--  https://uc82a66a98d30c6d20cd1becd837.dl.dropboxusercontent.com/cd/0/inline/BoTMzvSJy0HsNWjiI5NRAMOoFs9F3teEmOzgcIoocx3kvJAJ9yKhQKDtybg-PAQFYO2sYPTet2LPplJ9qp4MedNaobQXjjSXCoiwRehrGqLkU-lOb1Rr3_pIzIox9q8M6RHY-SQy7Q-NKTLR0nnM1q9P-QgeTxHACXA2nlXiow1rmA/file\n",
      "Resolving uc82a66a98d30c6d20cd1becd837.dl.dropboxusercontent.com (uc82a66a98d30c6d20cd1becd837.dl.dropboxusercontent.com)... 162.125.65.15, 2620:100:6021:15::a27d:410f\n",
      "Connecting to uc82a66a98d30c6d20cd1becd837.dl.dropboxusercontent.com (uc82a66a98d30c6d20cd1becd837.dl.dropboxusercontent.com)|162.125.65.15|:443... connected.\n",
      "HTTP request sent, awaiting response... 302 Found\n",
      "Location: /cd/0/inline2/BoQ9ezPhWTSLCZdGouIYx_Y0bMytwe_OtAcyvkAhnIRCtcYi51o3xe8P7LT-0lHTX99Zw0avRGhu-GB3wfceezc1IOLBlnZiHqfcf-rXylIjGPlBak1q6CQRd9EgrdMTIyMm-FzkCV6cV22yfCI04DDog3MuHOq4pnfV1m5X91jeNcHGTfEInPJrNomDv1VZzxOahwVZc8cRpAwxGs_1NPq2UJatbQx8NOeS99EuzQYe3UJoA1s3zmUyw21hF3C7-ss25uai9Ldf1w6slC4AYhau4Nk7YwZvNwZfVhm_C2ESyhJvKr5HWsC7669vw_ce-SRRpeo4dlmVvOdMxJq0dcBaA3vmAl1gfa8uMyzYkI9QZ6OjuSDe5AbCRg6vrIfXCo4D_jqTVyRrHauzPiW-n_ym6gnBfbebrgnMQDYXPqmu3w/file [following]\n",
      "--2022-07-01 16:22:48--  https://uc82a66a98d30c6d20cd1becd837.dl.dropboxusercontent.com/cd/0/inline2/BoQ9ezPhWTSLCZdGouIYx_Y0bMytwe_OtAcyvkAhnIRCtcYi51o3xe8P7LT-0lHTX99Zw0avRGhu-GB3wfceezc1IOLBlnZiHqfcf-rXylIjGPlBak1q6CQRd9EgrdMTIyMm-FzkCV6cV22yfCI04DDog3MuHOq4pnfV1m5X91jeNcHGTfEInPJrNomDv1VZzxOahwVZc8cRpAwxGs_1NPq2UJatbQx8NOeS99EuzQYe3UJoA1s3zmUyw21hF3C7-ss25uai9Ldf1w6slC4AYhau4Nk7YwZvNwZfVhm_C2ESyhJvKr5HWsC7669vw_ce-SRRpeo4dlmVvOdMxJq0dcBaA3vmAl1gfa8uMyzYkI9QZ6OjuSDe5AbCRg6vrIfXCo4D_jqTVyRrHauzPiW-n_ym6gnBfbebrgnMQDYXPqmu3w/file\n",
      "Reusing existing connection to uc82a66a98d30c6d20cd1becd837.dl.dropboxusercontent.com:443.\n",
      "HTTP request sent, awaiting response... 200 OK\n",
      "Length: 835950622 (797M) [application/octet-stream]\n",
      "Saving to: ‘16L_64HD_8H_512I_128T_cc12m_cc3m_3E.pt’\n",
      "\n",
      "16L_64HD_8H_512I_12 100%[===================>] 797.22M  22.7MB/s    in 37s     \n",
      "\n",
      "2022-07-01 16:23:25 (21.5 MB/s) - ‘16L_64HD_8H_512I_128T_cc12m_cc3m_3E.pt’ saved [835950622/835950622]\n",
      "\n"
     ]
    }
   ],
   "source": [
    "!wget --no-check-certificate https://www.dropbox.com/s/8mmgnromwoilpfm/16L_64HD_8H_512I_128T_cc12m_cc3m_3E.pt"
   ],
   "metadata": {
    "pycharm": {
     "name": "#%%\n"
    },
    "colab": {
     "base_uri": "https://localhost:8080/"
    },
    "id": "BkISJiRYh1sQ",
    "outputId": "61051863-8cfb-4fa3-bd4a-5d6c616369d5"
   }
  },
  {
   "cell_type": "code",
   "execution_count": 6,
   "outputs": [],
   "source": [
    "load_obj = torch.load(\"./16L_64HD_8H_512I_128T_cc12m_cc3m_3E.pt\")\n",
    "dalle_params, _, weights = load_obj.pop('hparams'), load_obj.pop('vae_params'), load_obj.pop('weights')\n",
    "dalle_params.pop('vae', None)  # cleanup later\n",
    "\n",
    "dalle = DALLE(vae=vae, **dalle_params).cuda()\n",
    "dalle.load_state_dict(weights)\n",
    "batch_size = 4\n",
    "top_k = 0.9"
   ],
   "metadata": {
    "pycharm": {
     "name": "#%%\n"
    },
    "id": "Hn-Rwdzgh1sQ"
   }
  },
  {
   "cell_type": "markdown",
   "source": [
    "## Image 생성\n",
    "\n",
    "다운로드 받은 Checkpoint에 맞게 Image를 생성합니다.\n"
   ],
   "metadata": {
    "collapsed": false,
    "pycharm": {
     "name": "#%% md\n"
    },
    "id": "d5pafwXLh1sR"
   }
  },
  {
   "cell_type": "code",
   "execution_count": 7,
   "outputs": [],
   "source": [
    "def make_images(text_input, num_images):\n",
    "    try:\n",
    "        text = tokenizer.tokenize([text_input], dalle.text_seq_len).cuda()\n",
    "\n",
    "        text = repeat(text, '() n -> b n', b=num_images)\n",
    "\n",
    "        outputs = []\n",
    "        for text_chunk in tqdm(text.split(batch_size), desc=f'generating images for - {text}'):\n",
    "            output = dalle.generate_images(text_chunk, filter_thres=top_k)\n",
    "            outputs.append(output)\n",
    "\n",
    "        outputs = torch.cat(outputs)\n",
    "\n",
    "        response = []\n",
    "\n",
    "        for i, image in tqdm(enumerate(outputs), desc='saving images'):\n",
    "            np_image = np.moveaxis(image.cpu().numpy(), 0, -1)\n",
    "            formatted = (np_image * 255).astype('uint8')\n",
    "\n",
    "            img = Image.fromarray(formatted)\n",
    "\n",
    "            buffered = BytesIO()\n",
    "            img.save(buffered, format=\"JPEG\")\n",
    "            img_str = base64.b64encode(buffered.getvalue()).decode(\"utf-8\")\n",
    "            response.append(img_str)\n",
    "\n",
    "        return response\n",
    "\n",
    "    except Exception as e:\n",
    "        print('Error occur in script generating!', e)\n",
    "        return jsonify({'Error': e}), 500\n",
    "\n",
    "def handle_requests_by_batch():\n",
    "    while True:\n",
    "        request_batch = []\n",
    "\n",
    "        while not (len(request_batch) >= REQUEST_BATCH_SIZE):\n",
    "            try:\n",
    "                request_batch.append(requests_queue.get(timeout=CHECK_INTERVAL))\n",
    "            except Empty:\n",
    "                continue\n",
    "\n",
    "            for requests in request_batch:\n",
    "                try:\n",
    "                    requests[\"output\"] = make_images(requests['input'][0], requests['input'][1])\n",
    "\n",
    "                except Exception as e:\n",
    "                    requests[\"output\"] = e\n"
   ],
   "metadata": {
    "pycharm": {
     "name": "#%%\n"
    },
    "id": "HJgGWBimh1sR"
   }
  },
  {
   "cell_type": "code",
   "execution_count": 8,
   "outputs": [],
   "source": [
    "handler = Thread(target=handle_requests_by_batch).start()"
   ],
   "metadata": {
    "pycharm": {
     "name": "#%%\n"
    },
    "id": "JLHqmR8Ah1sS"
   }
  },
  {
   "cell_type": "markdown",
   "source": [
    "## Flask 블루 프린트 구성\n",
    "\n",
    "생성된 Image를 Flask와 REST로 보낼 수 있는 router를 구성합니다."
   ],
   "metadata": {
    "collapsed": false,
    "pycharm": {
     "name": "#%% md\n"
    },
    "id": "HSBnd-j3h1sS"
   }
  },
  {
   "cell_type": "code",
   "execution_count": 9,
   "outputs": [],
   "source": [
    "@app.route('/generate', methods=['POST'])\n",
    "def generate():\n",
    "    if requests_queue.qsize() > REQUEST_BATCH_SIZE:\n",
    "        return jsonify({'Error': 'Too Many Requests. Please try again later'}), 429\n",
    "\n",
    "    try:\n",
    "        args = []\n",
    "        json_data = request.get_json()\n",
    "        text_input = json_data[\"text\"]\n",
    "        num_images = json_data[\"num_images\"]\n",
    "\n",
    "        if num_images > 10:\n",
    "            return jsonify({'Error': 'Too many images requested. Request no more than 10'}), 500\n",
    "\n",
    "        args.append(text_input)\n",
    "        args.append(num_images)\n",
    "\n",
    "    except Exception as e:\n",
    "        return jsonify({'Error': 'Invalid request'}), 500\n",
    "\n",
    "    req = {'input': args}\n",
    "    requests_queue.put(req)\n",
    "\n",
    "    while 'output' not in req:\n",
    "        time.sleep(CHECK_INTERVAL)\n",
    "\n",
    "    return jsonify(req['output'])\n",
    "\n",
    "\n",
    "@app.route('/healthz', methods=[\"GET\"])\n",
    "def health_check():\n",
    "    return \"Health\", 200"
   ],
   "metadata": {
    "pycharm": {
     "name": "#%%\n"
    },
    "id": "dwogUXD_h1sS"
   }
  },
  {
   "cell_type": "markdown",
   "source": [
    "## Server 실행\n",
    "\n",
    "Flask 명령으로 서버를 실행합니다.\n"
   ],
   "metadata": {
    "collapsed": false,
    "pycharm": {
     "name": "#%% md\n"
    },
    "id": "cxDn7F8_h1sT"
   }
  },
  {
   "cell_type": "code",
   "execution_count": null,
   "outputs": [
    {
     "output_type": "stream",
     "name": "stdout",
     "text": [
      " * Serving Flask app \"__main__\" (lazy loading)\n",
      " * Environment: production\n",
      "\u001B[31m   WARNING: This is a development server. Do not use it in a production deployment.\u001B[0m\n",
      "\u001B[2m   Use a production WSGI server instead.\u001B[0m\n",
      " * Debug mode: off\n"
     ]
    },
    {
     "output_type": "stream",
     "name": "stderr",
     "text": [
      " * Running on http://127.0.0.1:5000/ (Press CTRL+C to quit)\n"
     ]
    }
   ],
   "source": [
    "app.run(port=5000, host='127.0.0.1')"
   ],
   "metadata": {
    "pycharm": {
     "name": "#%%\n"
    },
    "colab": {
     "base_uri": "https://localhost:8080/"
    },
    "id": "rNL_JYrlh1sT",
    "outputId": "e28aa6d6-f43e-4f0b-9a66-0f44cc21165a"
   }
  },
  {
   "cell_type": "markdown",
   "source": [
    ""
   ],
   "metadata": {
    "collapsed": false,
    "pycharm": {
     "name": "#%% md\n"
    },
    "id": "L4ON3SgBh1sU"
   }
  }
 ],
 "metadata": {
  "kernelspec": {
   "display_name": "Python 3",
   "language": "python",
   "name": "python3"
  },
  "language_info": {
   "codemirror_mode": {
    "name": "ipython",
    "version": 2
   },
   "file_extension": ".py",
   "mimetype": "text/x-python",
   "name": "python",
   "nbconvert_exporter": "python",
   "pygments_lexer": "ipython2",
   "version": "2.7.6"
  },
  "colab": {
   "name": "dalle_server_colab.ipynb",
   "provenance": [],
   "collapsed_sections": [],
   "machine_shape": "hm",
   "background_execution": "on"
  },
  "accelerator": "GPU",
  "gpuClass": "standard"
 },
 "nbformat": 4,
 "nbformat_minor": 0
}